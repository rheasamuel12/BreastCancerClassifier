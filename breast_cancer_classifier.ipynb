{
 "cells": [
  {
   "cell_type": "code",
   "execution_count": 259,
   "id": "56e89f4f-56f0-4c1d-8b38-ab38afe9301a",
   "metadata": {},
   "outputs": [
    {
     "name": "stdout",
     "output_type": "stream",
     "text": [
      "--2025-02-22 22:35:19--  https://raw.githubusercontent.com/joestubbs/coe379L-sp25/master/datasets/unit01/project1.csv\n",
      "Resolving raw.githubusercontent.com (raw.githubusercontent.com)... 185.199.110.133, 185.199.111.133, 185.199.109.133, ...\n",
      "Connecting to raw.githubusercontent.com (raw.githubusercontent.com)|185.199.110.133|:443... connected.\n",
      "HTTP request sent, awaiting response... 200 OK\n",
      "Length: 25651 (25K) [text/plain]\n",
      "Saving to: ‘project1.csv’\n",
      "\n",
      "project1.csv        100%[===================>]  25.05K  --.-KB/s    in 0.006s  \n",
      "\n",
      "2025-02-22 22:35:19 (4.23 MB/s) - ‘project1.csv’ saved [25651/25651]\n",
      "\n"
     ]
    }
   ],
   "source": [
    "!wget https://raw.githubusercontent.com/joestubbs/coe379L-sp25/master/datasets/unit01/project1.csv"
   ]
  },
  {
   "cell_type": "code",
   "execution_count": 261,
   "id": "c09afdef-fc9f-430f-9570-edc3e9107add",
   "metadata": {},
   "outputs": [],
   "source": [
    "import pandas as pd\n",
    "breast_cancer = pd.read_csv('project1.csv')"
   ]
  },
  {
   "cell_type": "code",
   "execution_count": 262,
   "id": "c46958fd-5a0f-498c-8871-8548dd618296",
   "metadata": {},
   "outputs": [],
   "source": [
    "# Part 1"
   ]
  },
  {
   "cell_type": "code",
   "execution_count": 263,
   "id": "8d8d28d1-1750-4956-a0aa-4f44521aabfa",
   "metadata": {},
   "outputs": [
    {
     "data": {
      "text/plain": [
       "(386, 10)"
      ]
     },
     "execution_count": 263,
     "metadata": {},
     "output_type": "execute_result"
    }
   ],
   "source": [
    "breast_cancer.shape"
   ]
  },
  {
   "cell_type": "code",
   "execution_count": 264,
   "id": "a495d1c3-524b-4651-916a-f610b6f836f0",
   "metadata": {},
   "outputs": [
    {
     "data": {
      "text/plain": [
       "3860"
      ]
     },
     "execution_count": 264,
     "metadata": {},
     "output_type": "execute_result"
    }
   ],
   "source": [
    "breast_cancer.size"
   ]
  },
  {
   "cell_type": "code",
   "execution_count": 265,
   "id": "f70bd66c-d40d-43fa-b1d4-3acf87a11d34",
   "metadata": {},
   "outputs": [
    {
     "name": "stdout",
     "output_type": "stream",
     "text": [
      "<class 'pandas.core.frame.DataFrame'>\n",
      "RangeIndex: 386 entries, 0 to 385\n",
      "Data columns (total 10 columns):\n",
      " #   Column       Non-Null Count  Dtype \n",
      "---  ------       --------------  ----- \n",
      " 0   class        386 non-null    object\n",
      " 1   age          386 non-null    object\n",
      " 2   menopause    386 non-null    object\n",
      " 3   tumor-size   385 non-null    object\n",
      " 4   inv-nodes    385 non-null    object\n",
      " 5   node-caps    386 non-null    object\n",
      " 6   deg-malig    386 non-null    int64 \n",
      " 7   breast       386 non-null    object\n",
      " 8   breast-quad  386 non-null    object\n",
      " 9   irradiat     386 non-null    object\n",
      "dtypes: int64(1), object(9)\n",
      "memory usage: 30.3+ KB\n"
     ]
    }
   ],
   "source": [
    "breast_cancer.info()\n",
    "\n",
    "#now I will check what information each of the variables have, and if they need datatype conversion"
   ]
  },
  {
   "cell_type": "code",
   "execution_count": 266,
   "id": "ad51b738-1a14-448d-83cd-9ab2f4db6519",
   "metadata": {},
   "outputs": [
    {
     "data": {
      "text/plain": [
       "0         recurrence-events\n",
       "1      no-recurrence-events\n",
       "2         recurrence-events\n",
       "3      no-recurrence-events\n",
       "4      no-recurrence-events\n",
       "               ...         \n",
       "381    no-recurrence-events\n",
       "382    no-recurrence-events\n",
       "383    no-recurrence-events\n",
       "384    no-recurrence-events\n",
       "385    no-recurrence-events\n",
       "Name: class, Length: 386, dtype: object"
      ]
     },
     "execution_count": 266,
     "metadata": {},
     "output_type": "execute_result"
    }
   ],
   "source": [
    "breast_cancer['class']"
   ]
  },
  {
   "cell_type": "code",
   "execution_count": 267,
   "id": "3d64977d-ed39-40e7-a647-efc5e9db37d1",
   "metadata": {},
   "outputs": [
    {
     "data": {
      "text/plain": [
       "0      premeno\n",
       "1      premeno\n",
       "2      premeno\n",
       "3         ge40\n",
       "4      premeno\n",
       "        ...   \n",
       "381    premeno\n",
       "382       ge40\n",
       "383    premeno\n",
       "384    premeno\n",
       "385    premeno\n",
       "Name: menopause, Length: 386, dtype: object"
      ]
     },
     "execution_count": 267,
     "metadata": {},
     "output_type": "execute_result"
    }
   ],
   "source": [
    "breast_cancer['menopause']"
   ]
  },
  {
   "cell_type": "code",
   "execution_count": 268,
   "id": "5a541b16-a2b2-4348-9b5e-0faa85907e98",
   "metadata": {},
   "outputs": [
    {
     "data": {
      "text/plain": [
       "0      30-39\n",
       "1      40-49\n",
       "2      40-49\n",
       "3      60-69\n",
       "4      40-49\n",
       "       ...  \n",
       "381    40-49\n",
       "382    60-69\n",
       "383    70-79\n",
       "384    70-79\n",
       "385    60-69\n",
       "Name: age, Length: 386, dtype: object"
      ]
     },
     "execution_count": 268,
     "metadata": {},
     "output_type": "execute_result"
    }
   ],
   "source": [
    "breast_cancer['age']"
   ]
  },
  {
   "cell_type": "code",
   "execution_count": 270,
   "id": "a39c889d-6b66-4136-9536-54c0284436c2",
   "metadata": {},
   "outputs": [
    {
     "data": {
      "text/plain": [
       "0      30-34\n",
       "1      20-24\n",
       "2      20-24\n",
       "3      15-19\n",
       "4        0-4\n",
       "       ...  \n",
       "381    30-34\n",
       "382    30-34\n",
       "383    20-24\n",
       "384    30-34\n",
       "385    30-34\n",
       "Name: tumor-size, Length: 386, dtype: object"
      ]
     },
     "execution_count": 270,
     "metadata": {},
     "output_type": "execute_result"
    }
   ],
   "source": [
    "breast_cancer['tumor-size']"
   ]
  },
  {
   "cell_type": "code",
   "execution_count": 272,
   "id": "ac880bef-b42d-402a-801b-f741b838650b",
   "metadata": {},
   "outputs": [
    {
     "data": {
      "text/plain": [
       "0       0-2\n",
       "1       0-2\n",
       "2       0-2\n",
       "3       0-2\n",
       "4       0-2\n",
       "       ... \n",
       "381     3-5\n",
       "382     3-5\n",
       "383     0-2\n",
       "384    9-11\n",
       "385    9-11\n",
       "Name: inv-nodes, Length: 386, dtype: object"
      ]
     },
     "execution_count": 272,
     "metadata": {},
     "output_type": "execute_result"
    }
   ],
   "source": [
    "breast_cancer['inv-nodes']"
   ]
  },
  {
   "cell_type": "code",
   "execution_count": 273,
   "id": "d1fd3769-0c58-49c8-a739-4927dfcc41b1",
   "metadata": {},
   "outputs": [
    {
     "data": {
      "text/plain": [
       "0       no\n",
       "1       no\n",
       "2       no\n",
       "3       no\n",
       "4       no\n",
       "      ... \n",
       "381     no\n",
       "382    yes\n",
       "383     no\n",
       "384     no\n",
       "385     no\n",
       "Name: node-caps, Length: 386, dtype: object"
      ]
     },
     "execution_count": 273,
     "metadata": {},
     "output_type": "execute_result"
    }
   ],
   "source": [
    "breast_cancer['node-caps']"
   ]
  },
  {
   "cell_type": "code",
   "execution_count": 274,
   "id": "e7e924dc-a24d-47db-a8ad-408945b23af7",
   "metadata": {},
   "outputs": [
    {
     "data": {
      "text/plain": [
       "0      3\n",
       "1      2\n",
       "2      2\n",
       "3      2\n",
       "4      2\n",
       "      ..\n",
       "381    3\n",
       "382    2\n",
       "383    3\n",
       "384    1\n",
       "385    2\n",
       "Name: deg-malig, Length: 386, dtype: int64"
      ]
     },
     "execution_count": 274,
     "metadata": {},
     "output_type": "execute_result"
    }
   ],
   "source": [
    "breast_cancer['deg-malig']"
   ]
  },
  {
   "cell_type": "code",
   "execution_count": 275,
   "id": "775e7a9a-fc26-4397-b087-9e571369051d",
   "metadata": {},
   "outputs": [
    {
     "data": {
      "text/plain": [
       "0       left\n",
       "1      right\n",
       "2       left\n",
       "3      right\n",
       "4      right\n",
       "       ...  \n",
       "381    right\n",
       "382    right\n",
       "383    right\n",
       "384    right\n",
       "385    right\n",
       "Name: breast, Length: 386, dtype: object"
      ]
     },
     "execution_count": 275,
     "metadata": {},
     "output_type": "execute_result"
    }
   ],
   "source": [
    "breast_cancer['breast']"
   ]
  },
  {
   "cell_type": "code",
   "execution_count": 276,
   "id": "ef6be994-5522-4c25-a90e-1d35d93b9f39",
   "metadata": {},
   "outputs": [
    {
     "data": {
      "text/plain": [
       "0       left_low\n",
       "1       right_up\n",
       "2       left_low\n",
       "3        left_up\n",
       "4      right_low\n",
       "         ...    \n",
       "381     left_low\n",
       "382      left_up\n",
       "383     right_up\n",
       "384     left_low\n",
       "385     left_low\n",
       "Name: breast-quad, Length: 386, dtype: object"
      ]
     },
     "execution_count": 276,
     "metadata": {},
     "output_type": "execute_result"
    }
   ],
   "source": [
    "breast_cancer['breast-quad']"
   ]
  },
  {
   "cell_type": "code",
   "execution_count": 277,
   "id": "99e3ea63-1028-4d68-b629-3e2be49f3654",
   "metadata": {},
   "outputs": [
    {
     "data": {
      "text/plain": [
       "0       no\n",
       "1       no\n",
       "2       no\n",
       "3       no\n",
       "4       no\n",
       "      ... \n",
       "381     no\n",
       "382    yes\n",
       "383     no\n",
       "384    yes\n",
       "385     no\n",
       "Name: irradiat, Length: 386, dtype: object"
      ]
     },
     "execution_count": 277,
     "metadata": {},
     "output_type": "execute_result"
    }
   ],
   "source": [
    "breast_cancer['irradiat']"
   ]
  },
  {
   "cell_type": "code",
   "execution_count": null,
   "id": "3923ed38-f7e4-4e0a-808d-95afa1b340a6",
   "metadata": {},
   "outputs": [],
   "source": [
    "# We can see that all of the variables we have are categorical. Therefore, we are going to be able to complete one-hot encoding, \n",
    "# but we will do this later. Other than that, no datatype conversion is needed."
   ]
  },
  {
   "cell_type": "code",
   "execution_count": 278,
   "id": "804d8c15-e5f2-4e6a-9e5d-3e27dc9fc30e",
   "metadata": {},
   "outputs": [
    {
     "data": {
      "text/plain": [
       "class          0\n",
       "age            0\n",
       "menopause      0\n",
       "tumor-size     1\n",
       "inv-nodes      1\n",
       "node-caps      0\n",
       "deg-malig      0\n",
       "breast         0\n",
       "breast-quad    0\n",
       "irradiat       0\n",
       "dtype: int64"
      ]
     },
     "execution_count": 278,
     "metadata": {},
     "output_type": "execute_result"
    }
   ],
   "source": [
    "#checking if there are null values in the dataset\n",
    "breast_cancer.isnull().sum()"
   ]
  },
  {
   "cell_type": "code",
   "execution_count": 279,
   "id": "a741b3c9-584d-45cd-b7c1-48f83b672a06",
   "metadata": {},
   "outputs": [
    {
     "data": {
      "text/plain": [
       "class          0\n",
       "age            0\n",
       "menopause      0\n",
       "tumor-size     1\n",
       "inv-nodes      1\n",
       "node-caps      0\n",
       "deg-malig      0\n",
       "breast         0\n",
       "breast-quad    0\n",
       "irradiat       0\n",
       "dtype: int64"
      ]
     },
     "execution_count": 279,
     "metadata": {},
     "output_type": "execute_result"
    }
   ],
   "source": [
    "#First, I'm going to treat the missing data\n",
    "breast_cancer.isnull().sum()"
   ]
  },
  {
   "cell_type": "code",
   "execution_count": 280,
   "id": "444dad06-f345-4ee9-9cd2-5c92b512bade",
   "metadata": {},
   "outputs": [],
   "source": [
    "breast_cancer['tumor-size'].fillna(breast_cancer['tumor-size'].mode()[0], inplace=True)\n",
    "breast_cancer['inv-nodes'].fillna(breast_cancer['inv-nodes'].mode()[0], inplace=True)"
   ]
  },
  {
   "cell_type": "code",
   "execution_count": 281,
   "id": "d447356e-8d73-4e14-b0d2-bd8d37ff7492",
   "metadata": {},
   "outputs": [],
   "source": [
    "# Now, I am going to be treating the data as categorical data, and use one-hot encoding"
   ]
  },
  {
   "cell_type": "code",
   "execution_count": 282,
   "id": "ce619fcd-c274-4ee0-9f48-a3f3a8baccba",
   "metadata": {},
   "outputs": [],
   "source": [
    "breast_cancer['class'] = breast_cancer['class'].astype(\"category\")\n",
    "breast_cancer['age'] = breast_cancer['age'].astype(\"category\")\n",
    "breast_cancer['menopause'] = breast_cancer['menopause'].astype(\"category\")\n",
    "breast_cancer['tumor-size'] = breast_cancer['tumor-size'].astype(\"category\")\n",
    "breast_cancer['inv-nodes'] = breast_cancer['inv-nodes'].astype(\"category\")\n",
    "breast_cancer['node-caps'] = breast_cancer['node-caps'].astype(\"category\")\n",
    "breast_cancer['deg-malig'] = breast_cancer['deg-malig'].astype(\"category\")\n",
    "breast_cancer['breast'] = breast_cancer['breast'].astype(\"category\")\n",
    "breast_cancer['breast-quad'] = breast_cancer['breast-quad'].astype(\"category\")\n",
    "breast_cancer['irradiat'] = breast_cancer['irradiat'].astype(\"category\")\n"
   ]
  },
  {
   "cell_type": "code",
   "execution_count": 283,
   "id": "e9b8eb92-1c75-459c-97c1-9fc6a4457c3e",
   "metadata": {},
   "outputs": [
    {
     "name": "stdout",
     "output_type": "stream",
     "text": [
      "<class 'pandas.core.frame.DataFrame'>\n",
      "RangeIndex: 386 entries, 0 to 385\n",
      "Data columns (total 10 columns):\n",
      " #   Column       Non-Null Count  Dtype   \n",
      "---  ------       --------------  -----   \n",
      " 0   class        386 non-null    category\n",
      " 1   age          386 non-null    category\n",
      " 2   menopause    386 non-null    category\n",
      " 3   tumor-size   386 non-null    category\n",
      " 4   inv-nodes    386 non-null    category\n",
      " 5   node-caps    386 non-null    category\n",
      " 6   deg-malig    386 non-null    category\n",
      " 7   breast       386 non-null    category\n",
      " 8   breast-quad  386 non-null    category\n",
      " 9   irradiat     386 non-null    category\n",
      "dtypes: category(10)\n",
      "memory usage: 6.0 KB\n"
     ]
    }
   ],
   "source": [
    "breast_cancer.info()"
   ]
  },
  {
   "cell_type": "code",
   "execution_count": 284,
   "id": "886f1176-caf8-4bb7-8437-1bcd1b27f686",
   "metadata": {},
   "outputs": [],
   "source": [
    "# Checking if there are duplicate values and dropping them\n",
    "breast_cancer.duplicated().sum()\n",
    "breast_cancer.drop_duplicates(inplace=True, ignore_index=True)"
   ]
  },
  {
   "cell_type": "code",
   "execution_count": 285,
   "id": "a065b2ea-ef46-4ee0-961c-5317c17b8252",
   "metadata": {},
   "outputs": [
    {
     "data": {
      "text/html": [
       "<div>\n",
       "<style scoped>\n",
       "    .dataframe tbody tr th:only-of-type {\n",
       "        vertical-align: middle;\n",
       "    }\n",
       "\n",
       "    .dataframe tbody tr th {\n",
       "        vertical-align: top;\n",
       "    }\n",
       "\n",
       "    .dataframe thead th {\n",
       "        text-align: right;\n",
       "    }\n",
       "</style>\n",
       "<table border=\"1\" class=\"dataframe\">\n",
       "  <thead>\n",
       "    <tr style=\"text-align: right;\">\n",
       "      <th></th>\n",
       "      <th>class</th>\n",
       "      <th>age</th>\n",
       "      <th>menopause</th>\n",
       "      <th>tumor-size</th>\n",
       "      <th>inv-nodes</th>\n",
       "      <th>node-caps</th>\n",
       "      <th>deg-malig</th>\n",
       "      <th>breast</th>\n",
       "      <th>breast-quad</th>\n",
       "      <th>irradiat</th>\n",
       "    </tr>\n",
       "  </thead>\n",
       "  <tbody>\n",
       "    <tr>\n",
       "      <th>count</th>\n",
       "      <td>374</td>\n",
       "      <td>374</td>\n",
       "      <td>374</td>\n",
       "      <td>374</td>\n",
       "      <td>374</td>\n",
       "      <td>374</td>\n",
       "      <td>374</td>\n",
       "      <td>374</td>\n",
       "      <td>374</td>\n",
       "      <td>374</td>\n",
       "    </tr>\n",
       "    <tr>\n",
       "      <th>unique</th>\n",
       "      <td>2</td>\n",
       "      <td>6</td>\n",
       "      <td>3</td>\n",
       "      <td>11</td>\n",
       "      <td>7</td>\n",
       "      <td>4</td>\n",
       "      <td>3</td>\n",
       "      <td>2</td>\n",
       "      <td>7</td>\n",
       "      <td>2</td>\n",
       "    </tr>\n",
       "    <tr>\n",
       "      <th>top</th>\n",
       "      <td>no-recurrence-events</td>\n",
       "      <td>40-49</td>\n",
       "      <td>premeno</td>\n",
       "      <td>30-34</td>\n",
       "      <td>0-2</td>\n",
       "      <td>no</td>\n",
       "      <td>2</td>\n",
       "      <td>left</td>\n",
       "      <td>left_low</td>\n",
       "      <td>no</td>\n",
       "    </tr>\n",
       "    <tr>\n",
       "      <th>freq</th>\n",
       "      <td>253</td>\n",
       "      <td>114</td>\n",
       "      <td>210</td>\n",
       "      <td>83</td>\n",
       "      <td>233</td>\n",
       "      <td>265</td>\n",
       "      <td>160</td>\n",
       "      <td>190</td>\n",
       "      <td>137</td>\n",
       "      <td>292</td>\n",
       "    </tr>\n",
       "  </tbody>\n",
       "</table>\n",
       "</div>"
      ],
      "text/plain": [
       "                       class    age menopause tumor-size inv-nodes node-caps  \\\n",
       "count                    374    374       374        374       374       374   \n",
       "unique                     2      6         3         11         7         4   \n",
       "top     no-recurrence-events  40-49   premeno      30-34       0-2        no   \n",
       "freq                     253    114       210         83       233       265   \n",
       "\n",
       "        deg-malig breast breast-quad irradiat  \n",
       "count         374    374         374      374  \n",
       "unique          3      2           7        2  \n",
       "top             2   left    left_low       no  \n",
       "freq          160    190         137      292  "
      ]
     },
     "execution_count": 285,
     "metadata": {},
     "output_type": "execute_result"
    }
   ],
   "source": [
    "# Performing univariate analysis\n",
    "breast_cancer.describe()"
   ]
  },
  {
   "cell_type": "code",
   "execution_count": 286,
   "id": "cc224a7a-f3d3-4880-be6d-752ed87d16ff",
   "metadata": {},
   "outputs": [
    {
     "data": {
      "image/png": "[encoded data removed]",
      "text/plain": [
       "<Figure size 640x480 with 1 Axes>"
      ]
     },
     "metadata": {},
     "output_type": "display_data"
    }
   ],
   "source": [
    "import seaborn as sns\n",
    "import matplotlib.pyplot as plt\n",
    "\n",
    "sns.countplot(data=breast_cancer, x='class')\n",
    "\n",
    "plt.title('Count of Recurrence Events')\n",
    "plt.show()\n"
   ]
  },
  {
   "cell_type": "code",
   "execution_count": 287,
   "id": "77184de3-d5f7-4e96-8df8-c34a93d7f2db",
   "metadata": {},
   "outputs": [
    {
     "data": {
      "image/png": "[encoded data removed]",
      "text/plain": [
       "<Figure size 640x480 with 1 Axes>"
      ]
     },
     "metadata": {},
     "output_type": "display_data"
    }
   ],
   "source": [
    "sns.histplot(data=breast_cancer, x='age')\n",
    "\n",
    "plt.title('Age Ranges')\n",
    "plt.show()\n"
   ]
  },
  {
   "cell_type": "code",
   "execution_count": 288,
   "id": "4fc87294-c740-470d-9eb2-2c6299538ce0",
   "metadata": {
    "scrolled": true
   },
   "outputs": [
    {
     "data": {
      "image/png": "[encoded data removed]",
      "text/plain": [
       "<Figure size 640x480 with 1 Axes>"
      ]
     },
     "metadata": {},
     "output_type": "display_data"
    }
   ],
   "source": [
    "sns.countplot(data=breast_cancer, x='menopause')\n",
    "\n",
    "plt.title('Menopause')\n",
    "plt.show()\n"
   ]
  },
  {
   "cell_type": "code",
   "execution_count": 289,
   "id": "58e2edfc-065b-4968-8af1-4b768437d6e3",
   "metadata": {},
   "outputs": [
    {
     "data": {
      "image/png": "[encoded data removed]",
      "text/plain": [
       "<Figure size 640x480 with 1 Axes>"
      ]
     },
     "metadata": {},
     "output_type": "display_data"
    }
   ],
   "source": [
    "sns.countplot(data=breast_cancer, x='tumor-size')\n",
    "\n",
    "plt.title('Tumor sizes')\n",
    "plt.show()\n"
   ]
  },
  {
   "cell_type": "code",
   "execution_count": 290,
   "id": "98ab9491-5df6-4dad-baca-6ac6aeadbb52",
   "metadata": {},
   "outputs": [
    {
     "data": {
      "image/png": "[encoded data removed]",
      "text/plain": [
       "<Figure size 640x480 with 1 Axes>"
      ]
     },
     "metadata": {},
     "output_type": "display_data"
    }
   ],
   "source": [
    "sns.countplot(data=breast_cancer, x='inv-nodes')\n",
    "\n",
    "plt.title('Inv Nodes')\n",
    "plt.show()\n"
   ]
  },
  {
   "cell_type": "code",
   "execution_count": 291,
   "id": "5335b998-64bf-43d8-9c34-ee66c6171363",
   "metadata": {},
   "outputs": [
    {
     "data": {
      "image/png": "[encoded data removed]",
      "text/plain": [
       "<Figure size 640x480 with 1 Axes>"
      ]
     },
     "metadata": {},
     "output_type": "display_data"
    }
   ],
   "source": [
    "sns.boxplot(data=breast_cancer, x='node-caps')\n",
    "\n",
    "plt.title('Node Caps')\n",
    "plt.show()\n"
   ]
  },
  {
   "cell_type": "code",
   "execution_count": 292,
   "id": "1f9c124f-5e55-44d8-a665-4e28c513f228",
   "metadata": {},
   "outputs": [
    {
     "data": {
      "image/png": "[encoded data removed]",
      "text/plain": [
       "<Figure size 640x480 with 1 Axes>"
      ]
     },
     "metadata": {},
     "output_type": "display_data"
    }
   ],
   "source": [
    "sns.histplot(data=breast_cancer, x='deg-malig')\n",
    "\n",
    "plt.title('Deg Malig')\n",
    "plt.show()\n"
   ]
  },
  {
   "cell_type": "code",
   "execution_count": 293,
   "id": "953f8f90-a723-46cc-9e63-3ba66feaa705",
   "metadata": {},
   "outputs": [
    {
     "data": {
      "image/png": "[encoded data removed]",
      "text/plain": [
       "<Figure size 640x480 with 1 Axes>"
      ]
     },
     "metadata": {},
     "output_type": "display_data"
    }
   ],
   "source": [
    "sns.countplot(data=breast_cancer, x='breast')\n",
    "\n",
    "plt.title('Specific Breast')\n",
    "plt.show()\n"
   ]
  },
  {
   "cell_type": "code",
   "execution_count": 294,
   "id": "9ff8ea50-0463-42de-98c3-915875557e11",
   "metadata": {},
   "outputs": [
    {
     "data": {
      "image/png": "[encoded data removed]",
      "text/plain": [
       "<Figure size 640x480 with 1 Axes>"
      ]
     },
     "metadata": {},
     "output_type": "display_data"
    }
   ],
   "source": [
    "\n",
    "sns.countplot(data=breast_cancer, x='irradiat')\n",
    "\n",
    "plt.title('Irradiat')\n",
    "plt.show()\n"
   ]
  },
  {
   "cell_type": "code",
   "execution_count": 295,
   "id": "75bac557-bb3a-461c-892d-d71bb9034775",
   "metadata": {},
   "outputs": [
    {
     "data": {
      "image/png": "[encoded data removed]",
      "text/plain": [
       "<Figure size 640x480 with 1 Axes>"
      ]
     },
     "metadata": {},
     "output_type": "display_data"
    }
   ],
   "source": [
    "\n",
    "sns.countplot(data=breast_cancer, x='breast-quad')\n",
    "\n",
    "plt.title('Breast Quad')\n",
    "plt.show()\n"
   ]
  },
  {
   "cell_type": "code",
   "execution_count": 296,
   "id": "25a791d6-4235-4f5f-85e4-1053e3e4d5e2",
   "metadata": {},
   "outputs": [],
   "source": [
    "# Based on these plots, the plots reveal several interesting patterns across the different categorical features. \n",
    "# For menopause-related variables, most patients in the dataset are either pre-menopausal or have reached menopause after the age of 40.\n",
    "# From our irradiat plot, more individuals are not going through radiation therapy. Additionally, majority of individuals have a tumor with size 30-34. \n",
    "# A lot of patients tumors' are located in the lower left quadrant of their breast.\n",
    "# There are many other factors that the dataset tells us, however, this is just a partial amount."
   ]
  },
  {
   "cell_type": "code",
   "execution_count": 297,
   "id": "0dff256d-de4a-4b2e-9bab-817ea9451052",
   "metadata": {},
   "outputs": [
    {
     "name": "stdout",
     "output_type": "stream",
     "text": [
      "<class 'pandas.core.frame.DataFrame'>\n",
      "RangeIndex: 374 entries, 0 to 373\n",
      "Data columns (total 37 columns):\n",
      " #   Column                   Non-Null Count  Dtype\n",
      "---  ------                   --------------  -----\n",
      " 0   class_recurrence-events  374 non-null    bool \n",
      " 1   age_30-39                374 non-null    bool \n",
      " 2   age_40-49                374 non-null    bool \n",
      " 3   age_50-59                374 non-null    bool \n",
      " 4   age_60-69                374 non-null    bool \n",
      " 5   age_70-79                374 non-null    bool \n",
      " 6   menopause_lt40           374 non-null    bool \n",
      " 7   menopause_premeno        374 non-null    bool \n",
      " 8   tumor-size_10-14         374 non-null    bool \n",
      " 9   tumor-size_15-19         374 non-null    bool \n",
      " 10  tumor-size_20-24         374 non-null    bool \n",
      " 11  tumor-size_25-29         374 non-null    bool \n",
      " 12  tumor-size_30-34         374 non-null    bool \n",
      " 13  tumor-size_35-39         374 non-null    bool \n",
      " 14  tumor-size_40-44         374 non-null    bool \n",
      " 15  tumor-size_45-49         374 non-null    bool \n",
      " 16  tumor-size_5-9           374 non-null    bool \n",
      " 17  tumor-size_50-54         374 non-null    bool \n",
      " 18  inv-nodes_12-14          374 non-null    bool \n",
      " 19  inv-nodes_15-17          374 non-null    bool \n",
      " 20  inv-nodes_24-26          374 non-null    bool \n",
      " 21  inv-nodes_3-5            374 non-null    bool \n",
      " 22  inv-nodes_6-8            374 non-null    bool \n",
      " 23  inv-nodes_9-11           374 non-null    bool \n",
      " 24  node-caps_?              374 non-null    bool \n",
      " 25  node-caps_no             374 non-null    bool \n",
      " 26  node-caps_yes            374 non-null    bool \n",
      " 27  deg-malig_2              374 non-null    bool \n",
      " 28  deg-malig_3              374 non-null    bool \n",
      " 29  breast_right             374 non-null    bool \n",
      " 30  breast-quad_?            374 non-null    bool \n",
      " 31  breast-quad_central      374 non-null    bool \n",
      " 32  breast-quad_left_low     374 non-null    bool \n",
      " 33  breast-quad_left_up      374 non-null    bool \n",
      " 34  breast-quad_right_low    374 non-null    bool \n",
      " 35  breast-quad_right_up     374 non-null    bool \n",
      " 36  irradiat_yes             374 non-null    bool \n",
      "dtypes: bool(37)\n",
      "memory usage: 13.6 KB\n"
     ]
    }
   ],
   "source": [
    "# Now completing one-hot encoding\n",
    "\n",
    "breast_cancer = pd.get_dummies(breast_cancer, columns=[\"class\"], drop_first=True)\n",
    "breast_cancer = pd.get_dummies(breast_cancer, columns=[\"age\"], drop_first=True)\n",
    "breast_cancer = pd.get_dummies(breast_cancer, columns=[\"menopause\"], drop_first=True)\n",
    "breast_cancer = pd.get_dummies(breast_cancer, columns=[\"tumor-size\"], drop_first=True)\n",
    "breast_cancer = pd.get_dummies(breast_cancer, columns=[\"inv-nodes\"], drop_first=True)\n",
    "breast_cancer = pd.get_dummies(breast_cancer, columns=[\"node-caps\"], drop_first=True)\n",
    "breast_cancer = pd.get_dummies(breast_cancer, columns=[\"deg-malig\"], drop_first=True)\n",
    "breast_cancer = pd.get_dummies(breast_cancer, columns=[\"breast\"], drop_first=True)\n",
    "breast_cancer = pd.get_dummies(breast_cancer, columns=[\"breast-quad\"], drop_first=True)\n",
    "breast_cancer = pd.get_dummies(breast_cancer, columns=[\"irradiat\"], drop_first=True)\n",
    "\n",
    "breast_cancer.info()"
   ]
  },
  {
   "cell_type": "code",
   "execution_count": 298,
   "id": "07578c86-0c9e-4578-a0c9-3fc09b7f334a",
   "metadata": {},
   "outputs": [],
   "source": [
    "# Part 2"
   ]
  },
  {
   "cell_type": "code",
   "execution_count": 299,
   "id": "ef255272-26f1-4d98-848c-0fb89b4208da",
   "metadata": {},
   "outputs": [
    {
     "name": "stdout",
     "output_type": "stream",
     "text": [
      "Training class distribution:\n",
      "class_recurrence-events\n",
      "False    0.678161\n",
      "True     0.321839\n",
      "Name: proportion, dtype: float64\n",
      "\n",
      "Testing class distribution:\n",
      "class_recurrence-events\n",
      "False    0.672566\n",
      "True     0.327434\n",
      "Name: proportion, dtype: float64\n"
     ]
    }
   ],
   "source": [
    "import pandas as pd\n",
    "from sklearn.model_selection import train_test_split\n",
    "\n",
    "X = breast_cancer.drop('class_recurrence-events', axis=1) \n",
    "y = breast_cancer['class_recurrence-events']  \n",
    "\n",
    "X_train, X_test, y_train, y_test = train_test_split(X, y, test_size=0.3,  stratify=y, random_state = 1)\n",
    "\n",
    "print(\"Training class distribution:\")\n",
    "print(y_train.value_counts(normalize=True))\n",
    "\n",
    "print(\"\\nTesting class distribution:\")\n",
    "print(y_test.value_counts(normalize=True))\n"
   ]
  },
  {
   "cell_type": "code",
   "execution_count": 300,
   "id": "5cd993ec-06eb-48fb-a261-c13c4a459287",
   "metadata": {},
   "outputs": [
    {
     "data": {
      "text/html": [
       "<style>#sk-container-id-10 {color: black;}#sk-container-id-10 pre{padding: 0;}#sk-container-id-10 div.sk-toggleable {background-color: white;}#sk-container-id-10 label.sk-toggleable__label {cursor: pointer;display: block;width: 100%;margin-bottom: 0;padding: 0.3em;box-sizing: border-box;text-align: center;}#sk-container-id-10 label.sk-toggleable__label-arrow:before {content: \"▸\";float: left;margin-right: 0.25em;color: #696969;}#sk-container-id-10 label.sk-toggleable__label-arrow:hover:before {color: black;}#sk-container-id-10 div.sk-estimator:hover label.sk-toggleable__label-arrow:before {color: black;}#sk-container-id-10 div.sk-toggleable__content {max-height: 0;max-width: 0;overflow: hidden;text-align: left;background-color: #f0f8ff;}#sk-container-id-10 div.sk-toggleable__content pre {margin: 0.2em;color: black;border-radius: 0.25em;background-color: #f0f8ff;}#sk-container-id-10 input.sk-toggleable__control:checked~div.sk-toggleable__content {max-height: 200px;max-width: 100%;overflow: auto;}#sk-container-id-10 input.sk-toggleable__control:checked~label.sk-toggleable__label-arrow:before {content: \"▾\";}#sk-container-id-10 div.sk-estimator input.sk-toggleable__control:checked~label.sk-toggleable__label {background-color: #d4ebff;}#sk-container-id-10 div.sk-label input.sk-toggleable__control:checked~label.sk-toggleable__label {background-color: #d4ebff;}#sk-container-id-10 input.sk-hidden--visually {border: 0;clip: rect(1px 1px 1px 1px);clip: rect(1px, 1px, 1px, 1px);height: 1px;margin: -1px;overflow: hidden;padding: 0;position: absolute;width: 1px;}#sk-container-id-10 div.sk-estimator {font-family: monospace;background-color: #f0f8ff;border: 1px dotted black;border-radius: 0.25em;box-sizing: border-box;margin-bottom: 0.5em;}#sk-container-id-10 div.sk-estimator:hover {background-color: #d4ebff;}#sk-container-id-10 div.sk-parallel-item::after {content: \"\";width: 100%;border-bottom: 1px solid gray;flex-grow: 1;}#sk-container-id-10 div.sk-label:hover label.sk-toggleable__label {background-color: #d4ebff;}#sk-container-id-10 div.sk-serial::before {content: \"\";position: absolute;border-left: 1px solid gray;box-sizing: border-box;top: 0;bottom: 0;left: 50%;z-index: 0;}#sk-container-id-10 div.sk-serial {display: flex;flex-direction: column;align-items: center;background-color: white;padding-right: 0.2em;padding-left: 0.2em;position: relative;}#sk-container-id-10 div.sk-item {position: relative;z-index: 1;}#sk-container-id-10 div.sk-parallel {display: flex;align-items: stretch;justify-content: center;background-color: white;position: relative;}#sk-container-id-10 div.sk-item::before, #sk-container-id-10 div.sk-parallel-item::before {content: \"\";position: absolute;border-left: 1px solid gray;box-sizing: border-box;top: 0;bottom: 0;left: 50%;z-index: -1;}#sk-container-id-10 div.sk-parallel-item {display: flex;flex-direction: column;z-index: 1;position: relative;background-color: white;}#sk-container-id-10 div.sk-parallel-item:first-child::after {align-self: flex-end;width: 50%;}#sk-container-id-10 div.sk-parallel-item:last-child::after {align-self: flex-start;width: 50%;}#sk-container-id-10 div.sk-parallel-item:only-child::after {width: 0;}#sk-container-id-10 div.sk-dashed-wrapped {border: 1px dashed gray;margin: 0 0.4em 0.5em 0.4em;box-sizing: border-box;padding-bottom: 0.4em;background-color: white;}#sk-container-id-10 div.sk-label label {font-family: monospace;font-weight: bold;display: inline-block;line-height: 1.2em;}#sk-container-id-10 div.sk-label-container {text-align: center;}#sk-container-id-10 div.sk-container {/* jupyter's `normalize.less` sets `[hidden] { display: none; }` but bootstrap.min.css set `[hidden] { display: none !important; }` so we also need the `!important` here to be able to override the default hidden behavior on the sphinx rendered scikit-learn.org. See: https://github.com/scikit-learn/scikit-learn/issues/21755 */display: inline-block !important;position: relative;}#sk-container-id-10 div.sk-text-repr-fallback {display: none;}</style><div id=\"sk-container-id-10\" class=\"sk-top-container\"><div class=\"sk-text-repr-fallback\"><pre>KNeighborsClassifier(n_neighbors=3)</pre><b>In a Jupyter environment, please rerun this cell to show the HTML representation or trust the notebook. <br />On GitHub, the HTML representation is unable to render, please try loading this page with nbviewer.org.</b></div><div class=\"sk-container\" hidden><div class=\"sk-item\"><div class=\"sk-estimator sk-toggleable\"><input class=\"sk-toggleable__control sk-hidden--visually\" id=\"sk-estimator-id-10\" type=\"checkbox\" checked><label for=\"sk-estimator-id-10\" class=\"sk-toggleable__label sk-toggleable__label-arrow\">KNeighborsClassifier</label><div class=\"sk-toggleable__content\"><pre>KNeighborsClassifier(n_neighbors=3)</pre></div></div></div></div></div>"
      ],
      "text/plain": [
       "KNeighborsClassifier(n_neighbors=3)"
      ]
     },
     "execution_count": 300,
     "metadata": {},
     "output_type": "execute_result"
    }
   ],
   "source": [
    "# KNN Classifier\n",
    "\n",
    "from sklearn.neighbors import KNeighborsClassifier\n",
    "from sklearn.model_selection import GridSearchCV\n",
    "import numpy as np\n",
    "from sklearn.metrics import accuracy_score, recall_score, precision_score, f1_score\n",
    "\n",
    "knn = KNeighborsClassifier(n_neighbors=3)\n",
    "knn.fit(X_train, y_train)"
   ]
  },
  {
   "cell_type": "code",
   "execution_count": 301,
   "id": "4a38868c-74c7-4c35-bda0-bcdb93d88384",
   "metadata": {},
   "outputs": [
    {
     "name": "stdout",
     "output_type": "stream",
     "text": [
      "K-Nearest Neighbors Report:\n",
      "Accuracy on test data: 0.58\n",
      "Accuracy on train data: 0.76\n",
      "Recall on test data: 0.19\n",
      "Recall on train data: 0.49\n",
      "Precision on test data: 0.28\n",
      "Precision on train data: 0.68\n",
      "F1-score on test data: 0.23\n",
      "F1-score on train data: 0.57\n"
     ]
    }
   ],
   "source": [
    "# K-Nearest Neighbors (KNN) Report:\n",
    "\n",
    "print(\"K-Nearest Neighbors Report:\")\n",
    "print('Accuracy on test data: {:.2f}'.format(accuracy_score(y_test, knn.predict(X_test))))\n",
    "print('Accuracy on train data: {:.2f}'.format(accuracy_score(y_train, knn.predict(X_train))))\n",
    "\n",
    "print('Recall on test data: {:.2f}'.format(recall_score(y_test, knn.predict(X_test))))\n",
    "print('Recall on train data: {:.2f}'.format(recall_score(y_train, knn.predict(X_train))))\n",
    "\n",
    "print('Precision on test data: {:.2f}'.format(precision_score(y_test, knn.predict(X_test))))\n",
    "print('Precision on train data: {:.2f}'.format(precision_score(y_train, knn.predict(X_train))))\n",
    "\n",
    "print('F1-score on test data: {:.2f}'.format(f1_score(y_test, knn.predict(X_test))))\n",
    "print('F1-score on train data: {:.2f}'.format(f1_score(y_train, knn.predict(X_train))))"
   ]
  },
  {
   "cell_type": "code",
   "execution_count": 302,
   "id": "038a0bfc-6709-4544-8af3-d46f2727084f",
   "metadata": {},
   "outputs": [
    {
     "data": {
      "text/plain": [
       "{'n_neighbors': 10}"
      ]
     },
     "execution_count": 302,
     "metadata": {},
     "output_type": "execute_result"
    }
   ],
   "source": [
    "# KNN Classifer using GridSearchCV\n",
    "\n",
    "knn_search_recall = KNeighborsClassifier()\n",
    "param_grid = {\"n_neighbors\": np.arange(1, 100)}\n",
    "\n",
    "knn_gscv2 = GridSearchCV(knn_search_recall, param_grid, cv=5)\n",
    "\n",
    "knn_gscv2.fit(X_train, y_train)\n",
    "knn_gscv2.best_params_"
   ]
  },
  {
   "cell_type": "code",
   "execution_count": 303,
   "id": "7f2da427-1035-4191-887d-a3ecccb1ef1f",
   "metadata": {},
   "outputs": [],
   "source": [
    "best_knn = knn_gscv2.best_estimator_"
   ]
  },
  {
   "cell_type": "code",
   "execution_count": 304,
   "id": "8895d1dd-d07b-4ccc-92c7-67120539d7d0",
   "metadata": {},
   "outputs": [
    {
     "name": "stdout",
     "output_type": "stream",
     "text": [
      "K-Nearest Neighbors GridSearchCV Report:\n",
      "Accuracy on test data: 0.67\n",
      "Accuracy on train data: 0.70\n",
      "Recall on test data: 0.11\n",
      "Recall on train data: 0.13\n",
      "Precision on test data: 0.50\n",
      "Precision on train data: 0.69\n",
      "F1-score on test data: 0.18\n",
      "F1-score on train data: 0.22\n"
     ]
    }
   ],
   "source": [
    "# KNN GridSearchCV Report\n",
    "print(\"K-Nearest Neighbors GridSearchCV Report:\")\n",
    "print('Accuracy on test data: {:.2f}'.format(accuracy_score(y_test, best_knn.predict(X_test))))\n",
    "print('Accuracy on train data: {:.2f}'.format(accuracy_score(y_train, best_knn.predict(X_train))))\n",
    "print('Recall on test data: {:.2f}'.format(recall_score(y_test, best_knn.predict(X_test))))\n",
    "print('Recall on train data: {:.2f}'.format(recall_score(y_train, best_knn.predict(X_train))))\n",
    "print('Precision on test data: {:.2f}'.format(precision_score(y_test, best_knn.predict(X_test))))\n",
    "print('Precision on train data: {:.2f}'.format(precision_score(y_train, best_knn.predict(X_train))))\n",
    "print('F1-score on test data: {:.2f}'.format(f1_score(y_test, best_knn.predict(X_test))))\n",
    "print('F1-score on train data: {:.2f}'.format(f1_score(y_train, best_knn.predict(X_train))))\n"
   ]
  },
  {
   "cell_type": "code",
   "execution_count": 305,
   "id": "54409b4f-96aa-4dc8-a2e8-f53e4b89cae4",
   "metadata": {},
   "outputs": [
    {
     "data": {
      "text/html": [
       "<style>#sk-container-id-11 {color: black;}#sk-container-id-11 pre{padding: 0;}#sk-container-id-11 div.sk-toggleable {background-color: white;}#sk-container-id-11 label.sk-toggleable__label {cursor: pointer;display: block;width: 100%;margin-bottom: 0;padding: 0.3em;box-sizing: border-box;text-align: center;}#sk-container-id-11 label.sk-toggleable__label-arrow:before {content: \"▸\";float: left;margin-right: 0.25em;color: #696969;}#sk-container-id-11 label.sk-toggleable__label-arrow:hover:before {color: black;}#sk-container-id-11 div.sk-estimator:hover label.sk-toggleable__label-arrow:before {color: black;}#sk-container-id-11 div.sk-toggleable__content {max-height: 0;max-width: 0;overflow: hidden;text-align: left;background-color: #f0f8ff;}#sk-container-id-11 div.sk-toggleable__content pre {margin: 0.2em;color: black;border-radius: 0.25em;background-color: #f0f8ff;}#sk-container-id-11 input.sk-toggleable__control:checked~div.sk-toggleable__content {max-height: 200px;max-width: 100%;overflow: auto;}#sk-container-id-11 input.sk-toggleable__control:checked~label.sk-toggleable__label-arrow:before {content: \"▾\";}#sk-container-id-11 div.sk-estimator input.sk-toggleable__control:checked~label.sk-toggleable__label {background-color: #d4ebff;}#sk-container-id-11 div.sk-label input.sk-toggleable__control:checked~label.sk-toggleable__label {background-color: #d4ebff;}#sk-container-id-11 input.sk-hidden--visually {border: 0;clip: rect(1px 1px 1px 1px);clip: rect(1px, 1px, 1px, 1px);height: 1px;margin: -1px;overflow: hidden;padding: 0;position: absolute;width: 1px;}#sk-container-id-11 div.sk-estimator {font-family: monospace;background-color: #f0f8ff;border: 1px dotted black;border-radius: 0.25em;box-sizing: border-box;margin-bottom: 0.5em;}#sk-container-id-11 div.sk-estimator:hover {background-color: #d4ebff;}#sk-container-id-11 div.sk-parallel-item::after {content: \"\";width: 100%;border-bottom: 1px solid gray;flex-grow: 1;}#sk-container-id-11 div.sk-label:hover label.sk-toggleable__label {background-color: #d4ebff;}#sk-container-id-11 div.sk-serial::before {content: \"\";position: absolute;border-left: 1px solid gray;box-sizing: border-box;top: 0;bottom: 0;left: 50%;z-index: 0;}#sk-container-id-11 div.sk-serial {display: flex;flex-direction: column;align-items: center;background-color: white;padding-right: 0.2em;padding-left: 0.2em;position: relative;}#sk-container-id-11 div.sk-item {position: relative;z-index: 1;}#sk-container-id-11 div.sk-parallel {display: flex;align-items: stretch;justify-content: center;background-color: white;position: relative;}#sk-container-id-11 div.sk-item::before, #sk-container-id-11 div.sk-parallel-item::before {content: \"\";position: absolute;border-left: 1px solid gray;box-sizing: border-box;top: 0;bottom: 0;left: 50%;z-index: -1;}#sk-container-id-11 div.sk-parallel-item {display: flex;flex-direction: column;z-index: 1;position: relative;background-color: white;}#sk-container-id-11 div.sk-parallel-item:first-child::after {align-self: flex-end;width: 50%;}#sk-container-id-11 div.sk-parallel-item:last-child::after {align-self: flex-start;width: 50%;}#sk-container-id-11 div.sk-parallel-item:only-child::after {width: 0;}#sk-container-id-11 div.sk-dashed-wrapped {border: 1px dashed gray;margin: 0 0.4em 0.5em 0.4em;box-sizing: border-box;padding-bottom: 0.4em;background-color: white;}#sk-container-id-11 div.sk-label label {font-family: monospace;font-weight: bold;display: inline-block;line-height: 1.2em;}#sk-container-id-11 div.sk-label-container {text-align: center;}#sk-container-id-11 div.sk-container {/* jupyter's `normalize.less` sets `[hidden] { display: none; }` but bootstrap.min.css set `[hidden] { display: none !important; }` so we also need the `!important` here to be able to override the default hidden behavior on the sphinx rendered scikit-learn.org. See: https://github.com/scikit-learn/scikit-learn/issues/21755 */display: inline-block !important;position: relative;}#sk-container-id-11 div.sk-text-repr-fallback {display: none;}</style><div id=\"sk-container-id-11\" class=\"sk-top-container\"><div class=\"sk-text-repr-fallback\"><pre>SGDClassifier(alpha=0.01, loss=&#x27;perceptron&#x27;)</pre><b>In a Jupyter environment, please rerun this cell to show the HTML representation or trust the notebook. <br />On GitHub, the HTML representation is unable to render, please try loading this page with nbviewer.org.</b></div><div class=\"sk-container\" hidden><div class=\"sk-item\"><div class=\"sk-estimator sk-toggleable\"><input class=\"sk-toggleable__control sk-hidden--visually\" id=\"sk-estimator-id-11\" type=\"checkbox\" checked><label for=\"sk-estimator-id-11\" class=\"sk-toggleable__label sk-toggleable__label-arrow\">SGDClassifier</label><div class=\"sk-toggleable__content\"><pre>SGDClassifier(alpha=0.01, loss=&#x27;perceptron&#x27;)</pre></div></div></div></div></div>"
      ],
      "text/plain": [
       "SGDClassifier(alpha=0.01, loss='perceptron')"
      ]
     },
     "execution_count": 305,
     "metadata": {},
     "output_type": "execute_result"
    }
   ],
   "source": [
    "# Linear Classification\n",
    "from sklearn.linear_model import SGDClassifier\n",
    "\n",
    "clf = SGDClassifier(loss=\"perceptron\", alpha=0.01)\n",
    "clf.fit(X_train, y_train)"
   ]
  },
  {
   "cell_type": "code",
   "execution_count": 307,
   "id": "d8b75999-d379-49ea-816a-5e56d174252d",
   "metadata": {},
   "outputs": [
    {
     "name": "stdout",
     "output_type": "stream",
     "text": [
      "Linear Classification\n",
      "Accuracy on test data: 0.53\n",
      "Accuracy on train data: 0.58\n",
      "Recall on test data: 0.51\n",
      "Recall on train data: 0.63\n",
      "Precision on test data: 0.35\n",
      "Precision on train data: 0.40\n",
      "F1-score on test data: 0.42\n",
      "F1-score on train data: 0.49\n"
     ]
    }
   ],
   "source": [
    "#Linear Classification Report\n",
    "print(\"Linear Classification\")\n",
    "print('Accuracy on test data: {:.2f}'.format(accuracy_score(y_test, clf.predict(X_test))))\n",
    "print('Accuracy on train data: {:.2f}'.format(accuracy_score(y_train, clf.predict(X_train))))\n",
    "\n",
    "print('Recall on test data: {:.2f}'.format(recall_score(y_test, clf.predict(X_test))))\n",
    "print('Recall on train data: {:.2f}'.format(recall_score(y_train, clf.predict(X_train))))\n",
    "\n",
    "print('Precision on test data: {:.2f}'.format(precision_score(y_test, clf.predict(X_test))))\n",
    "print('Precision on train data: {:.2f}'.format(precision_score(y_train, clf.predict(X_train))))\n",
    "\n",
    "print('F1-score on test data: {:.2f}'.format(f1_score(y_test, clf.predict(X_test))))\n",
    "print('F1-score on train data: {:.2f}'.format(f1_score(y_train, clf.predict(X_train))))\n"
   ]
  },
  {
   "cell_type": "code",
   "execution_count": null,
   "id": "f6ae2495-83e7-4591-a9ee-98af4e2e6c78",
   "metadata": {},
   "outputs": [],
   "source": [
    "# I believe the most important metric in this case can be considered recall. Recall is incredibly important when it comes to data regarding diseases as\n",
    "# it helps minimize the amount of falsae negatives that we have. "
   ]
  },
  {
   "cell_type": "code",
   "execution_count": null,
   "id": "51b03c2b-2cc0-4b3f-808b-e4e1d73326ba",
   "metadata": {},
   "outputs": [],
   "source": []
  },
  {
   "cell_type": "code",
   "execution_count": null,
   "id": "409f603d-1e70-4cb0-bd62-742cfe2db569",
   "metadata": {},
   "outputs": [],
   "source": []
  }
 ],
 "metadata": {
  "kernelspec": {
   "display_name": "Python 3 (ipykernel)",
   "language": "python",
   "name": "python3"
  },
  "language_info": {
   "codemirror_mode": {
    "name": "ipython",
    "version": 3
   },
   "file_extension": ".py",
   "mimetype": "text/x-python",
   "name": "python",
   "nbconvert_exporter": "python",
   "pygments_lexer": "ipython3",
   "version": "3.11.1"
  }
 },
 "nbformat": 4,
 "nbformat_minor": 5
}
