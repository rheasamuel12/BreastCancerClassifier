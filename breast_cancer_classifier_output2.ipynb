{
 "cells": [
  {
   "cell_type": "code",
   "execution_count": 568,
   "id": "56e89f4f-56f0-4c1d-8b38-ab38afe9301a",
   "metadata": {},
   "outputs": [
    {
     "name": "stdout",
     "output_type": "stream",
     "text": [
      "--2025-02-22 22:35:35--  https://raw.githubusercontent.com/joestubbs/coe379L-sp25/master/datasets/unit01/project1.csv\n",
      "Resolving raw.githubusercontent.com (raw.githubusercontent.com)... 185.199.110.133, 185.199.111.133, 185.199.109.133, ...\n",
      "Connecting to raw.githubusercontent.com (raw.githubusercontent.com)|185.199.110.133|:443... connected.\n",
      "HTTP request sent, awaiting response... 200 OK\n",
      "Length: 25651 (25K) [text/plain]\n",
      "Saving to: ‘project1.csv.1’\n",
      "\n",
      "project1.csv.1      100%[===================>]  25.05K  --.-KB/s    in 0.002s  \n",
      "\n",
      "2025-02-22 22:35:35 (13.9 MB/s) - ‘project1.csv.1’ saved [25651/25651]\n",
      "\n"
     ]
    }
   ],
   "source": [
    "!wget https://raw.githubusercontent.com/joestubbs/coe379L-sp25/master/datasets/unit01/project1.csv"
   ]
  },
  {
   "cell_type": "code",
   "execution_count": 569,
   "id": "6cb748b5-c5d8-497e-a244-cd8fa1ce5b0a",
   "metadata": {},
   "outputs": [],
   "source": [
    "import pandas as pd"
   ]
  },
  {
   "cell_type": "code",
   "execution_count": 570,
   "id": "c09afdef-fc9f-430f-9570-edc3e9107add",
   "metadata": {},
   "outputs": [],
   "source": [
    "breast_cancer = pd.read_csv('project1.csv')"
   ]
  },
  {
   "cell_type": "code",
   "execution_count": 571,
   "id": "c46958fd-5a0f-498c-8871-8548dd618296",
   "metadata": {},
   "outputs": [],
   "source": [
    "# Part 1"
   ]
  },
  {
   "cell_type": "code",
   "execution_count": 572,
   "id": "8d8d28d1-1750-4956-a0aa-4f44521aabfa",
   "metadata": {},
   "outputs": [
    {
     "data": {
      "text/plain": [
       "(386, 10)"
      ]
     },
     "execution_count": 572,
     "metadata": {},
     "output_type": "execute_result"
    }
   ],
   "source": [
    "breast_cancer.shape"
   ]
  },
  {
   "cell_type": "code",
   "execution_count": 573,
   "id": "a495d1c3-524b-4651-916a-f610b6f836f0",
   "metadata": {},
   "outputs": [
    {
     "data": {
      "text/plain": [
       "3860"
      ]
     },
     "execution_count": 573,
     "metadata": {},
     "output_type": "execute_result"
    }
   ],
   "source": [
    "breast_cancer.size"
   ]
  },
  {
   "cell_type": "code",
   "execution_count": 574,
   "id": "f70bd66c-d40d-43fa-b1d4-3acf87a11d34",
   "metadata": {},
   "outputs": [
    {
     "name": "stdout",
     "output_type": "stream",
     "text": [
      "<class 'pandas.core.frame.DataFrame'>\n",
      "RangeIndex: 386 entries, 0 to 385\n",
      "Data columns (total 10 columns):\n",
      " #   Column       Non-Null Count  Dtype \n",
      "---  ------       --------------  ----- \n",
      " 0   class        386 non-null    object\n",
      " 1   age          386 non-null    object\n",
      " 2   menopause    386 non-null    object\n",
      " 3   tumor-size   385 non-null    object\n",
      " 4   inv-nodes    385 non-null    object\n",
      " 5   node-caps    386 non-null    object\n",
      " 6   deg-malig    386 non-null    int64 \n",
      " 7   breast       386 non-null    object\n",
      " 8   breast-quad  386 non-null    object\n",
      " 9   irradiat     386 non-null    object\n",
      "dtypes: int64(1), object(9)\n",
      "memory usage: 30.3+ KB\n"
     ]
    }
   ],
   "source": [
    "breast_cancer.info()\n",
    "\n",
    "#now I will check what information each of the variables have, and if they need datatype conversion"
   ]
  },
  {
   "cell_type": "code",
   "execution_count": 575,
   "id": "ad51b738-1a14-448d-83cd-9ab2f4db6519",
   "metadata": {},
   "outputs": [
    {
     "data": {
      "text/plain": [
       "0         recurrence-events\n",
       "1      no-recurrence-events\n",
       "2         recurrence-events\n",
       "3      no-recurrence-events\n",
       "4      no-recurrence-events\n",
       "               ...         \n",
       "381    no-recurrence-events\n",
       "382    no-recurrence-events\n",
       "383    no-recurrence-events\n",
       "384    no-recurrence-events\n",
       "385    no-recurrence-events\n",
       "Name: class, Length: 386, dtype: object"
      ]
     },
     "execution_count": 575,
     "metadata": {},
     "output_type": "execute_result"
    }
   ],
   "source": [
    "breast_cancer['class']"
   ]
  },
  {
   "cell_type": "code",
   "execution_count": 576,
   "id": "3d64977d-ed39-40e7-a647-efc5e9db37d1",
   "metadata": {},
   "outputs": [
    {
     "data": {
      "text/plain": [
       "0      premeno\n",
       "1      premeno\n",
       "2      premeno\n",
       "3         ge40\n",
       "4      premeno\n",
       "        ...   \n",
       "381    premeno\n",
       "382       ge40\n",
       "383    premeno\n",
       "384    premeno\n",
       "385    premeno\n",
       "Name: menopause, Length: 386, dtype: object"
      ]
     },
     "execution_count": 576,
     "metadata": {},
     "output_type": "execute_result"
    }
   ],
   "source": [
    "breast_cancer['menopause']"
   ]
  },
  {
   "cell_type": "code",
   "execution_count": 577,
   "id": "5a541b16-a2b2-4348-9b5e-0faa85907e98",
   "metadata": {},
   "outputs": [
    {
     "data": {
      "text/plain": [
       "0      30-39\n",
       "1      40-49\n",
       "2      40-49\n",
       "3      60-69\n",
       "4      40-49\n",
       "       ...  \n",
       "381    40-49\n",
       "382    60-69\n",
       "383    70-79\n",
       "384    70-79\n",
       "385    60-69\n",
       "Name: age, Length: 386, dtype: object"
      ]
     },
     "execution_count": 577,
     "metadata": {},
     "output_type": "execute_result"
    }
   ],
   "source": [
    "breast_cancer['age']\n",
    "#We can see that this section needs a datatype conversion, right now it has a range of values that are the type object\n",
    "#however, we want it to have a specific value"
   ]
  },
  {
   "cell_type": "code",
   "execution_count": 578,
   "id": "a39c889d-6b66-4136-9536-54c0284436c2",
   "metadata": {},
   "outputs": [
    {
     "data": {
      "text/plain": [
       "0      30-34\n",
       "1      20-24\n",
       "2      20-24\n",
       "3      15-19\n",
       "4        0-4\n",
       "       ...  \n",
       "381    30-34\n",
       "382    30-34\n",
       "383    20-24\n",
       "384    30-34\n",
       "385    30-34\n",
       "Name: tumor-size, Length: 386, dtype: object"
      ]
     },
     "execution_count": 578,
     "metadata": {},
     "output_type": "execute_result"
    }
   ],
   "source": [
    "breast_cancer['tumor-size']\n",
    "#We can see that this section needs a datatype conversion, right now it has a range of values that are the type object\n",
    "#however, we want it to have a specific value"
   ]
  },
  {
   "cell_type": "code",
   "execution_count": 579,
   "id": "ac880bef-b42d-402a-801b-f741b838650b",
   "metadata": {},
   "outputs": [
    {
     "data": {
      "text/plain": [
       "0       0-2\n",
       "1       0-2\n",
       "2       0-2\n",
       "3       0-2\n",
       "4       0-2\n",
       "       ... \n",
       "381     3-5\n",
       "382     3-5\n",
       "383     0-2\n",
       "384    9-11\n",
       "385    9-11\n",
       "Name: inv-nodes, Length: 386, dtype: object"
      ]
     },
     "execution_count": 579,
     "metadata": {},
     "output_type": "execute_result"
    }
   ],
   "source": [
    "breast_cancer['inv-nodes']\n",
    "#We can see that this section needs a datatype conversion, right now it has a range of values that are the type object\n",
    "#however, we want it to have a specific value"
   ]
  },
  {
   "cell_type": "code",
   "execution_count": 580,
   "id": "d1fd3769-0c58-49c8-a739-4927dfcc41b1",
   "metadata": {},
   "outputs": [
    {
     "data": {
      "text/plain": [
       "0       no\n",
       "1       no\n",
       "2       no\n",
       "3       no\n",
       "4       no\n",
       "      ... \n",
       "381     no\n",
       "382    yes\n",
       "383     no\n",
       "384     no\n",
       "385     no\n",
       "Name: node-caps, Length: 386, dtype: object"
      ]
     },
     "execution_count": 580,
     "metadata": {},
     "output_type": "execute_result"
    }
   ],
   "source": [
    "breast_cancer['node-caps']"
   ]
  },
  {
   "cell_type": "code",
   "execution_count": 581,
   "id": "e7e924dc-a24d-47db-a8ad-408945b23af7",
   "metadata": {},
   "outputs": [
    {
     "data": {
      "text/plain": [
       "0      3\n",
       "1      2\n",
       "2      2\n",
       "3      2\n",
       "4      2\n",
       "      ..\n",
       "381    3\n",
       "382    2\n",
       "383    3\n",
       "384    1\n",
       "385    2\n",
       "Name: deg-malig, Length: 386, dtype: int64"
      ]
     },
     "execution_count": 581,
     "metadata": {},
     "output_type": "execute_result"
    }
   ],
   "source": [
    "breast_cancer['deg-malig']"
   ]
  },
  {
   "cell_type": "code",
   "execution_count": 582,
   "id": "775e7a9a-fc26-4397-b087-9e571369051d",
   "metadata": {},
   "outputs": [
    {
     "data": {
      "text/plain": [
       "0       left\n",
       "1      right\n",
       "2       left\n",
       "3      right\n",
       "4      right\n",
       "       ...  \n",
       "381    right\n",
       "382    right\n",
       "383    right\n",
       "384    right\n",
       "385    right\n",
       "Name: breast, Length: 386, dtype: object"
      ]
     },
     "execution_count": 582,
     "metadata": {},
     "output_type": "execute_result"
    }
   ],
   "source": [
    "breast_cancer['breast']"
   ]
  },
  {
   "cell_type": "code",
   "execution_count": 583,
   "id": "ef6be994-5522-4c25-a90e-1d35d93b9f39",
   "metadata": {},
   "outputs": [
    {
     "data": {
      "text/plain": [
       "0       left_low\n",
       "1       right_up\n",
       "2       left_low\n",
       "3        left_up\n",
       "4      right_low\n",
       "         ...    \n",
       "381     left_low\n",
       "382      left_up\n",
       "383     right_up\n",
       "384     left_low\n",
       "385     left_low\n",
       "Name: breast-quad, Length: 386, dtype: object"
      ]
     },
     "execution_count": 583,
     "metadata": {},
     "output_type": "execute_result"
    }
   ],
   "source": [
    "breast_cancer['breast-quad']"
   ]
  },
  {
   "cell_type": "code",
   "execution_count": 584,
   "id": "99e3ea63-1028-4d68-b629-3e2be49f3654",
   "metadata": {},
   "outputs": [
    {
     "data": {
      "text/plain": [
       "0       no\n",
       "1       no\n",
       "2       no\n",
       "3       no\n",
       "4       no\n",
       "      ... \n",
       "381     no\n",
       "382    yes\n",
       "383     no\n",
       "384    yes\n",
       "385     no\n",
       "Name: irradiat, Length: 386, dtype: object"
      ]
     },
     "execution_count": 584,
     "metadata": {},
     "output_type": "execute_result"
    }
   ],
   "source": [
    "breast_cancer['irradiat']"
   ]
  },
  {
   "cell_type": "code",
   "execution_count": 585,
   "id": "a741b3c9-584d-45cd-b7c1-48f83b672a06",
   "metadata": {},
   "outputs": [
    {
     "data": {
      "text/plain": [
       "class          0\n",
       "age            0\n",
       "menopause      0\n",
       "tumor-size     1\n",
       "inv-nodes      1\n",
       "node-caps      0\n",
       "deg-malig      0\n",
       "breast         0\n",
       "breast-quad    0\n",
       "irradiat       0\n",
       "dtype: int64"
      ]
     },
     "execution_count": 585,
     "metadata": {},
     "output_type": "execute_result"
    }
   ],
   "source": [
    "#First, I'm going to treat the missing data\n",
    "breast_cancer.isnull().sum()"
   ]
  },
  {
   "cell_type": "code",
   "execution_count": 586,
   "id": "444dad06-f345-4ee9-9cd2-5c92b512bade",
   "metadata": {},
   "outputs": [],
   "source": [
    "breast_cancer['tumor-size'].fillna(breast_cancer['tumor-size'].mode()[0], inplace=True)\n",
    "breast_cancer['inv-nodes'].fillna(breast_cancer['inv-nodes'].mode()[0], inplace=True)"
   ]
  },
  {
   "cell_type": "code",
   "execution_count": 587,
   "id": "dae4b478-61af-4cb6-9f91-5563c2c978f0",
   "metadata": {},
   "outputs": [],
   "source": [
    "#changing the data to use the average of the range\n",
    "breast_cancer['tumor-size'] = breast_cancer['tumor-size'].apply(lambda size: (float(size.split('-')[0]) + float(size.split('-')[1])) / 2)\n",
    "breast_cancer['inv-nodes'] = breast_cancer['inv-nodes'].apply(lambda size: (float(size.split('-')[0]) + float(size.split('-')[1])) / 2)\n",
    "breast_cancer['age'] = breast_cancer['age'].apply(lambda size: (float(size.split('-')[0]) + float(size.split('-')[1])) / 2)"
   ]
  },
  {
   "cell_type": "code",
   "execution_count": 588,
   "id": "d447356e-8d73-4e14-b0d2-bd8d37ff7492",
   "metadata": {},
   "outputs": [],
   "source": [
    "# Now, I am going to be treating the rest of the data as categorical data, and use one-hot encoding"
   ]
  },
  {
   "cell_type": "code",
   "execution_count": 589,
   "id": "ce619fcd-c274-4ee0-9f48-a3f3a8baccba",
   "metadata": {},
   "outputs": [],
   "source": [
    "breast_cancer['class'] = breast_cancer['class'].astype(\"category\")\n",
    "breast_cancer['menopause'] = breast_cancer['menopause'].astype(\"category\")\n",
    "breast_cancer['node-caps'] = breast_cancer['node-caps'].astype(\"category\")\n",
    "breast_cancer['deg-malig'] = breast_cancer['deg-malig'].astype(\"category\")\n",
    "breast_cancer['breast'] = breast_cancer['breast'].astype(\"category\")\n",
    "breast_cancer['breast-quad'] = breast_cancer['breast-quad'].astype(\"category\")\n",
    "breast_cancer['irradiat'] = breast_cancer['irradiat'].astype(\"category\")"
   ]
  },
  {
   "cell_type": "code",
   "execution_count": 590,
   "id": "e9b8eb92-1c75-459c-97c1-9fc6a4457c3e",
   "metadata": {},
   "outputs": [
    {
     "name": "stdout",
     "output_type": "stream",
     "text": [
      "<class 'pandas.core.frame.DataFrame'>\n",
      "RangeIndex: 386 entries, 0 to 385\n",
      "Data columns (total 10 columns):\n",
      " #   Column       Non-Null Count  Dtype   \n",
      "---  ------       --------------  -----   \n",
      " 0   class        386 non-null    category\n",
      " 1   age          386 non-null    float64 \n",
      " 2   menopause    386 non-null    category\n",
      " 3   tumor-size   386 non-null    float64 \n",
      " 4   inv-nodes    386 non-null    float64 \n",
      " 5   node-caps    386 non-null    category\n",
      " 6   deg-malig    386 non-null    category\n",
      " 7   breast       386 non-null    category\n",
      " 8   breast-quad  386 non-null    category\n",
      " 9   irradiat     386 non-null    category\n",
      "dtypes: category(7), float64(3)\n",
      "memory usage: 13.0 KB\n"
     ]
    }
   ],
   "source": [
    "breast_cancer.info()"
   ]
  },
  {
   "cell_type": "code",
   "execution_count": 591,
   "id": "886f1176-caf8-4bb7-8437-1bcd1b27f686",
   "metadata": {},
   "outputs": [],
   "source": [
    "# Checking if there are duplicate values and dropping them\n",
    "breast_cancer.duplicated().sum()\n",
    "breast_cancer.drop_duplicates(inplace=True, ignore_index=True)"
   ]
  },
  {
   "cell_type": "code",
   "execution_count": 592,
   "id": "a065b2ea-ef46-4ee0-961c-5317c17b8252",
   "metadata": {},
   "outputs": [
    {
     "data": {
      "text/html": [
       "<div>\n",
       "<style scoped>\n",
       "    .dataframe tbody tr th:only-of-type {\n",
       "        vertical-align: middle;\n",
       "    }\n",
       "\n",
       "    .dataframe tbody tr th {\n",
       "        vertical-align: top;\n",
       "    }\n",
       "\n",
       "    .dataframe thead th {\n",
       "        text-align: right;\n",
       "    }\n",
       "</style>\n",
       "<table border=\"1\" class=\"dataframe\">\n",
       "  <thead>\n",
       "    <tr style=\"text-align: right;\">\n",
       "      <th></th>\n",
       "      <th>age</th>\n",
       "      <th>tumor-size</th>\n",
       "      <th>inv-nodes</th>\n",
       "    </tr>\n",
       "  </thead>\n",
       "  <tbody>\n",
       "    <tr>\n",
       "      <th>count</th>\n",
       "      <td>374.000000</td>\n",
       "      <td>374.000000</td>\n",
       "      <td>374.000000</td>\n",
       "    </tr>\n",
       "    <tr>\n",
       "      <th>mean</th>\n",
       "      <td>51.826203</td>\n",
       "      <td>24.794118</td>\n",
       "      <td>3.125668</td>\n",
       "    </tr>\n",
       "    <tr>\n",
       "      <th>std</th>\n",
       "      <td>11.264098</td>\n",
       "      <td>10.966088</td>\n",
       "      <td>3.491504</td>\n",
       "    </tr>\n",
       "    <tr>\n",
       "      <th>min</th>\n",
       "      <td>24.500000</td>\n",
       "      <td>2.000000</td>\n",
       "      <td>1.000000</td>\n",
       "    </tr>\n",
       "    <tr>\n",
       "      <th>25%</th>\n",
       "      <td>44.500000</td>\n",
       "      <td>17.000000</td>\n",
       "      <td>1.000000</td>\n",
       "    </tr>\n",
       "    <tr>\n",
       "      <th>50%</th>\n",
       "      <td>54.500000</td>\n",
       "      <td>27.000000</td>\n",
       "      <td>1.000000</td>\n",
       "    </tr>\n",
       "    <tr>\n",
       "      <th>75%</th>\n",
       "      <td>64.500000</td>\n",
       "      <td>32.000000</td>\n",
       "      <td>4.000000</td>\n",
       "    </tr>\n",
       "    <tr>\n",
       "      <th>max</th>\n",
       "      <td>74.500000</td>\n",
       "      <td>52.000000</td>\n",
       "      <td>25.000000</td>\n",
       "    </tr>\n",
       "  </tbody>\n",
       "</table>\n",
       "</div>"
      ],
      "text/plain": [
       "              age  tumor-size   inv-nodes\n",
       "count  374.000000  374.000000  374.000000\n",
       "mean    51.826203   24.794118    3.125668\n",
       "std     11.264098   10.966088    3.491504\n",
       "min     24.500000    2.000000    1.000000\n",
       "25%     44.500000   17.000000    1.000000\n",
       "50%     54.500000   27.000000    1.000000\n",
       "75%     64.500000   32.000000    4.000000\n",
       "max     74.500000   52.000000   25.000000"
      ]
     },
     "execution_count": 592,
     "metadata": {},
     "output_type": "execute_result"
    }
   ],
   "source": [
    "# Now performing univariate analysis\n",
    "breast_cancer.describe()"
   ]
  },
  {
   "cell_type": "code",
   "execution_count": 593,
   "id": "cc224a7a-f3d3-4880-be6d-752ed87d16ff",
   "metadata": {},
   "outputs": [
    {
     "data": {
      "image/png": "[encoded data removed]",
      "text/plain": [
       "<Figure size 640x480 with 1 Axes>"
      ]
     },
     "metadata": {},
     "output_type": "display_data"
    }
   ],
   "source": [
    "import seaborn as sns\n",
    "import matplotlib.pyplot as plt\n",
    "\n",
    "sns.countplot(data=breast_cancer, x='class')\n",
    "\n",
    "plt.title('Count of Recurrence Events')\n",
    "plt.show()\n"
   ]
  },
  {
   "cell_type": "code",
   "execution_count": 594,
   "id": "77184de3-d5f7-4e96-8df8-c34a93d7f2db",
   "metadata": {},
   "outputs": [
    {
     "data": {
      "image/png": "[encoded data removed]",
      "text/plain": [
       "<Figure size 640x480 with 1 Axes>"
      ]
     },
     "metadata": {},
     "output_type": "display_data"
    }
   ],
   "source": [
    "# Create count plot for 'class_recurrence-events'\n",
    "sns.histplot(data=breast_cancer, x='age')\n",
    "\n",
    "plt.title('Age Ranges')\n",
    "plt.show()"
   ]
  },
  {
   "cell_type": "code",
   "execution_count": 595,
   "id": "4fc87294-c740-470d-9eb2-2c6299538ce0",
   "metadata": {
    "scrolled": true
   },
   "outputs": [
    {
     "data": {
      "image/png": "[encoded data removed]",
      "text/plain": [
       "<Figure size 640x480 with 1 Axes>"
      ]
     },
     "metadata": {},
     "output_type": "display_data"
    }
   ],
   "source": [
    "sns.countplot(data=breast_cancer, x='menopause')\n",
    "\n",
    "plt.title('Menopause')\n",
    "plt.show()\n"
   ]
  },
  {
   "cell_type": "code",
   "execution_count": 596,
   "id": "58e2edfc-065b-4968-8af1-4b768437d6e3",
   "metadata": {},
   "outputs": [
    {
     "data": {
      "image/png": "[encoded data removed]",
      "text/plain": [
       "<Figure size 640x480 with 1 Axes>"
      ]
     },
     "metadata": {},
     "output_type": "display_data"
    }
   ],
   "source": [
    "# Create count plot for 'class_recurrence-events'\n",
    "sns.histplot(data=breast_cancer, x='tumor-size')\n",
    "\n",
    "plt.title('Tumor Sizes')\n",
    "plt.show()"
   ]
  },
  {
   "cell_type": "code",
   "execution_count": 597,
   "id": "98ab9491-5df6-4dad-baca-6ac6aeadbb52",
   "metadata": {},
   "outputs": [
    {
     "data": {
      "image/png": "[encoded data removed]",
      "text/plain": [
       "<Figure size 640x480 with 1 Axes>"
      ]
     },
     "metadata": {},
     "output_type": "display_data"
    }
   ],
   "source": [
    "# Create count plot for 'class_recurrence-events'\n",
    "sns.histplot(data=breast_cancer, x='inv-nodes')\n",
    "\n",
    "plt.title('Inverse Nodes')\n",
    "plt.show()"
   ]
  },
  {
   "cell_type": "code",
   "execution_count": 598,
   "id": "5335b998-64bf-43d8-9c34-ee66c6171363",
   "metadata": {},
   "outputs": [
    {
     "data": {
      "image/png": "[encoded data removed]",
      "text/plain": [
       "<Figure size 640x480 with 1 Axes>"
      ]
     },
     "metadata": {},
     "output_type": "display_data"
    }
   ],
   "source": [
    "sns.boxplot(data=breast_cancer, x='node-caps')\n",
    "\n",
    "plt.title('Node Caps')\n",
    "plt.show()\n"
   ]
  },
  {
   "cell_type": "code",
   "execution_count": 599,
   "id": "1f9c124f-5e55-44d8-a665-4e28c513f228",
   "metadata": {},
   "outputs": [
    {
     "data": {
      "image/png": "[encoded data removed]",
      "text/plain": [
       "<Figure size 640x480 with 1 Axes>"
      ]
     },
     "metadata": {},
     "output_type": "display_data"
    }
   ],
   "source": [
    "sns.histplot(data=breast_cancer, x='deg-malig')\n",
    "\n",
    "plt.title('Deg Malig')\n",
    "plt.show()\n"
   ]
  },
  {
   "cell_type": "code",
   "execution_count": 600,
   "id": "953f8f90-a723-46cc-9e63-3ba66feaa705",
   "metadata": {},
   "outputs": [
    {
     "data": {
      "image/png": "[encoded data removed]",
      "text/plain": [
       "<Figure size 640x480 with 1 Axes>"
      ]
     },
     "metadata": {},
     "output_type": "display_data"
    }
   ],
   "source": [
    "sns.countplot(data=breast_cancer, x='breast')\n",
    "\n",
    "plt.title('Specific Breast')\n",
    "plt.show()\n"
   ]
  },
  {
   "cell_type": "code",
   "execution_count": 601,
   "id": "9ff8ea50-0463-42de-98c3-915875557e11",
   "metadata": {},
   "outputs": [
    {
     "data": {
      "image/png": "[encoded data removed]",
      "text/plain": [
       "<Figure size 640x480 with 1 Axes>"
      ]
     },
     "metadata": {},
     "output_type": "display_data"
    }
   ],
   "source": [
    "\n",
    "sns.countplot(data=breast_cancer, x='irradiat')\n",
    "\n",
    "plt.title('Irradiat')\n",
    "plt.show()\n"
   ]
  },
  {
   "cell_type": "code",
   "execution_count": 602,
   "id": "dec9782d-39cb-4f5a-bda9-ce4019e658dc",
   "metadata": {},
   "outputs": [
    {
     "data": {
      "image/png": "[encoded data removed]",
      "text/plain": [
       "<Figure size 640x480 with 1 Axes>"
      ]
     },
     "metadata": {},
     "output_type": "display_data"
    }
   ],
   "source": [
    "\n",
    "sns.countplot(data=breast_cancer, x='breast-quad')\n",
    "\n",
    "plt.title('Breast Quad')\n",
    "plt.show()\n"
   ]
  },
  {
   "cell_type": "code",
   "execution_count": 603,
   "id": "25a791d6-4235-4f5f-85e4-1053e3e4d5e2",
   "metadata": {},
   "outputs": [],
   "source": [
    "# Based on these plots, the plots reveal several interesting patterns across the different categorical features. \n",
    "# For menopause-related variables, most patients in the dataset are either pre-menopausal or have reached menopause after the age of 40.\n",
    "# From our irradiat plot, more individuals are not going through radiation therapy. Additionally, majority of individuals have a tumor with size 30-34. \n",
    "# A lot of patients tumors' are located in the lower left quadrant of their breast.\n",
    "# There are many other factors that the dataset tells us, however, this is just a partial amount."
   ]
  },
  {
   "cell_type": "code",
   "execution_count": 604,
   "id": "837519f3-3269-47fb-ba41-2bb1ea1b1319",
   "metadata": {},
   "outputs": [
    {
     "name": "stdout",
     "output_type": "stream",
     "text": [
      "<class 'pandas.core.frame.DataFrame'>\n",
      "RangeIndex: 374 entries, 0 to 373\n",
      "Data columns (total 19 columns):\n",
      " #   Column                   Non-Null Count  Dtype  \n",
      "---  ------                   --------------  -----  \n",
      " 0   age                      374 non-null    float64\n",
      " 1   tumor-size               374 non-null    float64\n",
      " 2   inv-nodes                374 non-null    float64\n",
      " 3   class_recurrence-events  374 non-null    bool   \n",
      " 4   menopause_lt40           374 non-null    bool   \n",
      " 5   menopause_premeno        374 non-null    bool   \n",
      " 6   node-caps_?              374 non-null    bool   \n",
      " 7   node-caps_no             374 non-null    bool   \n",
      " 8   node-caps_yes            374 non-null    bool   \n",
      " 9   deg-malig_2              374 non-null    bool   \n",
      " 10  deg-malig_3              374 non-null    bool   \n",
      " 11  breast_right             374 non-null    bool   \n",
      " 12  breast-quad_?            374 non-null    bool   \n",
      " 13  breast-quad_central      374 non-null    bool   \n",
      " 14  breast-quad_left_low     374 non-null    bool   \n",
      " 15  breast-quad_left_up      374 non-null    bool   \n",
      " 16  breast-quad_right_low    374 non-null    bool   \n",
      " 17  breast-quad_right_up     374 non-null    bool   \n",
      " 18  irradiat_yes             374 non-null    bool   \n",
      "dtypes: bool(16), float64(3)\n",
      "memory usage: 14.7 KB\n"
     ]
    }
   ],
   "source": [
    "breast_cancer = pd.get_dummies(breast_cancer, columns=[\"class\"], drop_first=True)\n",
    "breast_cancer = pd.get_dummies(breast_cancer, columns=[\"menopause\"], drop_first=True)\n",
    "breast_cancer = pd.get_dummies(breast_cancer, columns=[\"node-caps\"], drop_first=True)\n",
    "breast_cancer = pd.get_dummies(breast_cancer, columns=[\"deg-malig\"], drop_first=True)\n",
    "breast_cancer = pd.get_dummies(breast_cancer, columns=[\"breast\"], drop_first=True)\n",
    "breast_cancer = pd.get_dummies(breast_cancer, columns=[\"breast-quad\"], drop_first=True)\n",
    "breast_cancer = pd.get_dummies(breast_cancer, columns=[\"irradiat\"], drop_first=True)\n",
    "\n",
    "breast_cancer.info()"
   ]
  },
  {
   "cell_type": "code",
   "execution_count": 605,
   "id": "07578c86-0c9e-4578-a0c9-3fc09b7f334a",
   "metadata": {},
   "outputs": [],
   "source": [
    "# Part 2"
   ]
  },
  {
   "cell_type": "code",
   "execution_count": 606,
   "id": "ef255272-26f1-4d98-848c-0fb89b4208da",
   "metadata": {},
   "outputs": [
    {
     "name": "stdout",
     "output_type": "stream",
     "text": [
      "Training class distribution:\n",
      "class_recurrence-events\n",
      "False    0.678161\n",
      "True     0.321839\n",
      "Name: proportion, dtype: float64\n",
      "\n",
      "Testing class distribution:\n",
      "class_recurrence-events\n",
      "False    0.672566\n",
      "True     0.327434\n",
      "Name: proportion, dtype: float64\n"
     ]
    }
   ],
   "source": [
    "import pandas as pd\n",
    "from sklearn.model_selection import train_test_split\n",
    "\n",
    "X = breast_cancer.drop('class_recurrence-events', axis=1) \n",
    "y = breast_cancer['class_recurrence-events']  \n",
    "\n",
    "X_train, X_test, y_train, y_test = train_test_split(X, y, test_size=0.3,  stratify=y, random_state = 1)\n",
    "\n",
    "print(\"Training class distribution:\")\n",
    "print(y_train.value_counts(normalize=True))\n",
    "\n",
    "print(\"\\nTesting class distribution:\")\n",
    "print(y_test.value_counts(normalize=True))\n"
   ]
  },
  {
   "cell_type": "code",
   "execution_count": 607,
   "id": "5cd993ec-06eb-48fb-a261-c13c4a459287",
   "metadata": {},
   "outputs": [
    {
     "data": {
      "text/html": [
       "<style>#sk-container-id-13 {color: black;}#sk-container-id-13 pre{padding: 0;}#sk-container-id-13 div.sk-toggleable {background-color: white;}#sk-container-id-13 label.sk-toggleable__label {cursor: pointer;display: block;width: 100%;margin-bottom: 0;padding: 0.3em;box-sizing: border-box;text-align: center;}#sk-container-id-13 label.sk-toggleable__label-arrow:before {content: \"▸\";float: left;margin-right: 0.25em;color: #696969;}#sk-container-id-13 label.sk-toggleable__label-arrow:hover:before {color: black;}#sk-container-id-13 div.sk-estimator:hover label.sk-toggleable__label-arrow:before {color: black;}#sk-container-id-13 div.sk-toggleable__content {max-height: 0;max-width: 0;overflow: hidden;text-align: left;background-color: #f0f8ff;}#sk-container-id-13 div.sk-toggleable__content pre {margin: 0.2em;color: black;border-radius: 0.25em;background-color: #f0f8ff;}#sk-container-id-13 input.sk-toggleable__control:checked~div.sk-toggleable__content {max-height: 200px;max-width: 100%;overflow: auto;}#sk-container-id-13 input.sk-toggleable__control:checked~label.sk-toggleable__label-arrow:before {content: \"▾\";}#sk-container-id-13 div.sk-estimator input.sk-toggleable__control:checked~label.sk-toggleable__label {background-color: #d4ebff;}#sk-container-id-13 div.sk-label input.sk-toggleable__control:checked~label.sk-toggleable__label {background-color: #d4ebff;}#sk-container-id-13 input.sk-hidden--visually {border: 0;clip: rect(1px 1px 1px 1px);clip: rect(1px, 1px, 1px, 1px);height: 1px;margin: -1px;overflow: hidden;padding: 0;position: absolute;width: 1px;}#sk-container-id-13 div.sk-estimator {font-family: monospace;background-color: #f0f8ff;border: 1px dotted black;border-radius: 0.25em;box-sizing: border-box;margin-bottom: 0.5em;}#sk-container-id-13 div.sk-estimator:hover {background-color: #d4ebff;}#sk-container-id-13 div.sk-parallel-item::after {content: \"\";width: 100%;border-bottom: 1px solid gray;flex-grow: 1;}#sk-container-id-13 div.sk-label:hover label.sk-toggleable__label {background-color: #d4ebff;}#sk-container-id-13 div.sk-serial::before {content: \"\";position: absolute;border-left: 1px solid gray;box-sizing: border-box;top: 0;bottom: 0;left: 50%;z-index: 0;}#sk-container-id-13 div.sk-serial {display: flex;flex-direction: column;align-items: center;background-color: white;padding-right: 0.2em;padding-left: 0.2em;position: relative;}#sk-container-id-13 div.sk-item {position: relative;z-index: 1;}#sk-container-id-13 div.sk-parallel {display: flex;align-items: stretch;justify-content: center;background-color: white;position: relative;}#sk-container-id-13 div.sk-item::before, #sk-container-id-13 div.sk-parallel-item::before {content: \"\";position: absolute;border-left: 1px solid gray;box-sizing: border-box;top: 0;bottom: 0;left: 50%;z-index: -1;}#sk-container-id-13 div.sk-parallel-item {display: flex;flex-direction: column;z-index: 1;position: relative;background-color: white;}#sk-container-id-13 div.sk-parallel-item:first-child::after {align-self: flex-end;width: 50%;}#sk-container-id-13 div.sk-parallel-item:last-child::after {align-self: flex-start;width: 50%;}#sk-container-id-13 div.sk-parallel-item:only-child::after {width: 0;}#sk-container-id-13 div.sk-dashed-wrapped {border: 1px dashed gray;margin: 0 0.4em 0.5em 0.4em;box-sizing: border-box;padding-bottom: 0.4em;background-color: white;}#sk-container-id-13 div.sk-label label {font-family: monospace;font-weight: bold;display: inline-block;line-height: 1.2em;}#sk-container-id-13 div.sk-label-container {text-align: center;}#sk-container-id-13 div.sk-container {/* jupyter's `normalize.less` sets `[hidden] { display: none; }` but bootstrap.min.css set `[hidden] { display: none !important; }` so we also need the `!important` here to be able to override the default hidden behavior on the sphinx rendered scikit-learn.org. See: https://github.com/scikit-learn/scikit-learn/issues/21755 */display: inline-block !important;position: relative;}#sk-container-id-13 div.sk-text-repr-fallback {display: none;}</style><div id=\"sk-container-id-13\" class=\"sk-top-container\"><div class=\"sk-text-repr-fallback\"><pre>KNeighborsClassifier(n_neighbors=3)</pre><b>In a Jupyter environment, please rerun this cell to show the HTML representation or trust the notebook. <br />On GitHub, the HTML representation is unable to render, please try loading this page with nbviewer.org.</b></div><div class=\"sk-container\" hidden><div class=\"sk-item\"><div class=\"sk-estimator sk-toggleable\"><input class=\"sk-toggleable__control sk-hidden--visually\" id=\"sk-estimator-id-13\" type=\"checkbox\" checked><label for=\"sk-estimator-id-13\" class=\"sk-toggleable__label sk-toggleable__label-arrow\">KNeighborsClassifier</label><div class=\"sk-toggleable__content\"><pre>KNeighborsClassifier(n_neighbors=3)</pre></div></div></div></div></div>"
      ],
      "text/plain": [
       "KNeighborsClassifier(n_neighbors=3)"
      ]
     },
     "execution_count": 607,
     "metadata": {},
     "output_type": "execute_result"
    }
   ],
   "source": [
    "# KNN Classifier\n",
    "\n",
    "from sklearn.neighbors import KNeighborsClassifier\n",
    "from sklearn.model_selection import GridSearchCV\n",
    "import numpy as np\n",
    "from sklearn.metrics import accuracy_score, recall_score, precision_score, f1_score\n",
    "\n",
    "knn = KNeighborsClassifier(n_neighbors=3)\n",
    "knn.fit(X_train, y_train)"
   ]
  },
  {
   "cell_type": "code",
   "execution_count": 608,
   "id": "4a38868c-74c7-4c35-bda0-bcdb93d88384",
   "metadata": {},
   "outputs": [
    {
     "name": "stdout",
     "output_type": "stream",
     "text": [
      "K-Nearest Neighbors Report:\n",
      "Accuracy on test data: 0.56\n",
      "Accuracy on train data: 0.80\n",
      "Recall on test data: 0.24\n",
      "Recall on train data: 0.57\n",
      "Precision on test data: 0.29\n",
      "Precision on train data: 0.76\n",
      "F1-score on test data: 0.26\n",
      "F1-score on train data: 0.65\n"
     ]
    }
   ],
   "source": [
    "# K-Nearest Neighbors (KNN) Report:\n",
    "\n",
    "print(\"K-Nearest Neighbors Report:\")\n",
    "print('Accuracy on test data: {:.2f}'.format(accuracy_score(y_test, knn.predict(X_test))))\n",
    "print('Accuracy on train data: {:.2f}'.format(accuracy_score(y_train, knn.predict(X_train))))\n",
    "\n",
    "print('Recall on test data: {:.2f}'.format(recall_score(y_test, knn.predict(X_test))))\n",
    "print('Recall on train data: {:.2f}'.format(recall_score(y_train, knn.predict(X_train))))\n",
    "\n",
    "print('Precision on test data: {:.2f}'.format(precision_score(y_test, knn.predict(X_test))))\n",
    "print('Precision on train data: {:.2f}'.format(precision_score(y_train, knn.predict(X_train))))\n",
    "\n",
    "print('F1-score on test data: {:.2f}'.format(f1_score(y_test, knn.predict(X_test))))\n",
    "print('F1-score on train data: {:.2f}'.format(f1_score(y_train, knn.predict(X_train))))"
   ]
  },
  {
   "cell_type": "code",
   "execution_count": 609,
   "id": "038a0bfc-6709-4544-8af3-d46f2727084f",
   "metadata": {},
   "outputs": [
    {
     "data": {
      "text/plain": [
       "{'n_neighbors': 17}"
      ]
     },
     "execution_count": 609,
     "metadata": {},
     "output_type": "execute_result"
    }
   ],
   "source": [
    "# KNN Classifer using GridSearchCV\n",
    "\n",
    "knn_search_recall = KNeighborsClassifier()\n",
    "param_grid = {\"n_neighbors\": np.arange(1, 100)}\n",
    "\n",
    "knn_gscv2 = GridSearchCV(knn_search_recall, param_grid, cv=5)\n",
    "\n",
    "knn_gscv2.fit(X_train, y_train)\n",
    "knn_gscv2.best_params_"
   ]
  },
  {
   "cell_type": "code",
   "execution_count": 610,
   "id": "7f2da427-1035-4191-887d-a3ecccb1ef1f",
   "metadata": {},
   "outputs": [],
   "source": [
    "best_knn = knn_gscv2.best_estimator_"
   ]
  },
  {
   "cell_type": "code",
   "execution_count": 611,
   "id": "8895d1dd-d07b-4ccc-92c7-67120539d7d0",
   "metadata": {},
   "outputs": [
    {
     "name": "stdout",
     "output_type": "stream",
     "text": [
      "K-Nearest Neighbors GridSearchCV Report:\n",
      "Accuracy on test data: 0.68\n",
      "Accuracy on train data: 0.71\n",
      "Recall on test data: 0.08\n",
      "Recall on train data: 0.14\n",
      "Precision on test data: 0.60\n",
      "Precision on train data: 0.75\n",
      "F1-score on test data: 0.14\n",
      "F1-score on train data: 0.24\n"
     ]
    }
   ],
   "source": [
    "# KNN GridSearchCV Report\n",
    "print(\"K-Nearest Neighbors GridSearchCV Report:\")\n",
    "print('Accuracy on test data: {:.2f}'.format(accuracy_score(y_test, best_knn.predict(X_test))))\n",
    "print('Accuracy on train data: {:.2f}'.format(accuracy_score(y_train, best_knn.predict(X_train))))\n",
    "print('Recall on test data: {:.2f}'.format(recall_score(y_test, best_knn.predict(X_test))))\n",
    "print('Recall on train data: {:.2f}'.format(recall_score(y_train, best_knn.predict(X_train))))\n",
    "print('Precision on test data: {:.2f}'.format(precision_score(y_test, best_knn.predict(X_test))))\n",
    "print('Precision on train data: {:.2f}'.format(precision_score(y_train, best_knn.predict(X_train))))\n",
    "print('F1-score on test data: {:.2f}'.format(f1_score(y_test, best_knn.predict(X_test))))\n",
    "print('F1-score on train data: {:.2f}'.format(f1_score(y_train, best_knn.predict(X_train))))\n"
   ]
  },
  {
   "cell_type": "code",
   "execution_count": 612,
   "id": "54409b4f-96aa-4dc8-a2e8-f53e4b89cae4",
   "metadata": {},
   "outputs": [
    {
     "data": {
      "text/html": [
       "<style>#sk-container-id-14 {color: black;}#sk-container-id-14 pre{padding: 0;}#sk-container-id-14 div.sk-toggleable {background-color: white;}#sk-container-id-14 label.sk-toggleable__label {cursor: pointer;display: block;width: 100%;margin-bottom: 0;padding: 0.3em;box-sizing: border-box;text-align: center;}#sk-container-id-14 label.sk-toggleable__label-arrow:before {content: \"▸\";float: left;margin-right: 0.25em;color: #696969;}#sk-container-id-14 label.sk-toggleable__label-arrow:hover:before {color: black;}#sk-container-id-14 div.sk-estimator:hover label.sk-toggleable__label-arrow:before {color: black;}#sk-container-id-14 div.sk-toggleable__content {max-height: 0;max-width: 0;overflow: hidden;text-align: left;background-color: #f0f8ff;}#sk-container-id-14 div.sk-toggleable__content pre {margin: 0.2em;color: black;border-radius: 0.25em;background-color: #f0f8ff;}#sk-container-id-14 input.sk-toggleable__control:checked~div.sk-toggleable__content {max-height: 200px;max-width: 100%;overflow: auto;}#sk-container-id-14 input.sk-toggleable__control:checked~label.sk-toggleable__label-arrow:before {content: \"▾\";}#sk-container-id-14 div.sk-estimator input.sk-toggleable__control:checked~label.sk-toggleable__label {background-color: #d4ebff;}#sk-container-id-14 div.sk-label input.sk-toggleable__control:checked~label.sk-toggleable__label {background-color: #d4ebff;}#sk-container-id-14 input.sk-hidden--visually {border: 0;clip: rect(1px 1px 1px 1px);clip: rect(1px, 1px, 1px, 1px);height: 1px;margin: -1px;overflow: hidden;padding: 0;position: absolute;width: 1px;}#sk-container-id-14 div.sk-estimator {font-family: monospace;background-color: #f0f8ff;border: 1px dotted black;border-radius: 0.25em;box-sizing: border-box;margin-bottom: 0.5em;}#sk-container-id-14 div.sk-estimator:hover {background-color: #d4ebff;}#sk-container-id-14 div.sk-parallel-item::after {content: \"\";width: 100%;border-bottom: 1px solid gray;flex-grow: 1;}#sk-container-id-14 div.sk-label:hover label.sk-toggleable__label {background-color: #d4ebff;}#sk-container-id-14 div.sk-serial::before {content: \"\";position: absolute;border-left: 1px solid gray;box-sizing: border-box;top: 0;bottom: 0;left: 50%;z-index: 0;}#sk-container-id-14 div.sk-serial {display: flex;flex-direction: column;align-items: center;background-color: white;padding-right: 0.2em;padding-left: 0.2em;position: relative;}#sk-container-id-14 div.sk-item {position: relative;z-index: 1;}#sk-container-id-14 div.sk-parallel {display: flex;align-items: stretch;justify-content: center;background-color: white;position: relative;}#sk-container-id-14 div.sk-item::before, #sk-container-id-14 div.sk-parallel-item::before {content: \"\";position: absolute;border-left: 1px solid gray;box-sizing: border-box;top: 0;bottom: 0;left: 50%;z-index: -1;}#sk-container-id-14 div.sk-parallel-item {display: flex;flex-direction: column;z-index: 1;position: relative;background-color: white;}#sk-container-id-14 div.sk-parallel-item:first-child::after {align-self: flex-end;width: 50%;}#sk-container-id-14 div.sk-parallel-item:last-child::after {align-self: flex-start;width: 50%;}#sk-container-id-14 div.sk-parallel-item:only-child::after {width: 0;}#sk-container-id-14 div.sk-dashed-wrapped {border: 1px dashed gray;margin: 0 0.4em 0.5em 0.4em;box-sizing: border-box;padding-bottom: 0.4em;background-color: white;}#sk-container-id-14 div.sk-label label {font-family: monospace;font-weight: bold;display: inline-block;line-height: 1.2em;}#sk-container-id-14 div.sk-label-container {text-align: center;}#sk-container-id-14 div.sk-container {/* jupyter's `normalize.less` sets `[hidden] { display: none; }` but bootstrap.min.css set `[hidden] { display: none !important; }` so we also need the `!important` here to be able to override the default hidden behavior on the sphinx rendered scikit-learn.org. See: https://github.com/scikit-learn/scikit-learn/issues/21755 */display: inline-block !important;position: relative;}#sk-container-id-14 div.sk-text-repr-fallback {display: none;}</style><div id=\"sk-container-id-14\" class=\"sk-top-container\"><div class=\"sk-text-repr-fallback\"><pre>SGDClassifier(alpha=0.01, loss=&#x27;perceptron&#x27;)</pre><b>In a Jupyter environment, please rerun this cell to show the HTML representation or trust the notebook. <br />On GitHub, the HTML representation is unable to render, please try loading this page with nbviewer.org.</b></div><div class=\"sk-container\" hidden><div class=\"sk-item\"><div class=\"sk-estimator sk-toggleable\"><input class=\"sk-toggleable__control sk-hidden--visually\" id=\"sk-estimator-id-14\" type=\"checkbox\" checked><label for=\"sk-estimator-id-14\" class=\"sk-toggleable__label sk-toggleable__label-arrow\">SGDClassifier</label><div class=\"sk-toggleable__content\"><pre>SGDClassifier(alpha=0.01, loss=&#x27;perceptron&#x27;)</pre></div></div></div></div></div>"
      ],
      "text/plain": [
       "SGDClassifier(alpha=0.01, loss='perceptron')"
      ]
     },
     "execution_count": 612,
     "metadata": {},
     "output_type": "execute_result"
    }
   ],
   "source": [
    "# Linear Classification\n",
    "from sklearn.linear_model import SGDClassifier\n",
    "\n",
    "clf = SGDClassifier(loss=\"perceptron\", alpha=0.01)\n",
    "clf.fit(X_train, y_train)"
   ]
  },
  {
   "cell_type": "code",
   "execution_count": 613,
   "id": "d8b75999-d379-49ea-816a-5e56d174252d",
   "metadata": {},
   "outputs": [
    {
     "name": "stdout",
     "output_type": "stream",
     "text": [
      "Linear Classification\n",
      "Accuracy on test data: 0.68\n",
      "Accuracy on train data: 0.69\n",
      "Recall on test data: 0.08\n",
      "Recall on train data: 0.08\n",
      "Precision on test data: 0.60\n",
      "Precision on train data: 0.58\n",
      "F1-score on test data: 0.14\n",
      "F1-score on train data: 0.15\n"
     ]
    }
   ],
   "source": [
    "from sklearn.metrics import accuracy_score, recall_score, precision_score, f1_score\n",
    "\n",
    "# Linear Classification Report\n",
    "print(\"Linear Classification\")\n",
    "print('Accuracy on test data: {:.2f}'.format(accuracy_score(y_test, clf.predict(X_test))))\n",
    "print('Accuracy on train data: {:.2f}'.format(accuracy_score(y_train, clf.predict(X_train))))\n",
    "\n",
    "print('Recall on test data: {:.2f}'.format(recall_score(y_test, clf.predict(X_test))))\n",
    "print('Recall on train data: {:.2f}'.format(recall_score(y_train, clf.predict(X_train))))\n",
    "\n",
    "print('Precision on test data: {:.2f}'.format(precision_score(y_test, clf.predict(X_test), zero_division=1)))\n",
    "print('Precision on train data: {:.2f}'.format(precision_score(y_train, clf.predict(X_train), zero_division=1)))\n",
    "\n",
    "print('F1-score on test data: {:.2f}'.format(f1_score(y_test, clf.predict(X_test))))\n",
    "print('F1-score on train data: {:.2f}'.format(f1_score(y_train, clf.predict(X_train))))\n"
   ]
  },
  {
   "cell_type": "code",
   "execution_count": null,
   "id": "f6ae2495-83e7-4591-a9ee-98af4e2e6c78",
   "metadata": {},
   "outputs": [],
   "source": []
  },
  {
   "cell_type": "code",
   "execution_count": null,
   "id": "342680e5-1482-4f47-9696-9935020904cb",
   "metadata": {},
   "outputs": [],
   "source": []
  },
  {
   "cell_type": "code",
   "execution_count": null,
   "id": "84bde99d-b7f0-45f6-a9bf-b76bc179c004",
   "metadata": {},
   "outputs": [],
   "source": []
  }
 ],
 "metadata": {
  "kernelspec": {
   "display_name": "Python 3 (ipykernel)",
   "language": "python",
   "name": "python3"
  },
  "language_info": {
   "codemirror_mode": {
    "name": "ipython",
    "version": 3
   },
   "file_extension": ".py",
   "mimetype": "text/x-python",
   "name": "python",
   "nbconvert_exporter": "python",
   "pygments_lexer": "ipython3",
   "version": "3.11.1"
  }
 },
 "nbformat": 4,
 "nbformat_minor": 5
}
